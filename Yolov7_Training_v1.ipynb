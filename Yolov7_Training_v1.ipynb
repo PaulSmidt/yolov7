{
  "nbformat": 4,
  "nbformat_minor": 0,
  "metadata": {
    "colab": {
      "provenance": [],
      "gpuType": "T4",
      "authorship_tag": "ABX9TyP0sf2G7UFBUgD8WVTE1RXD",
      "include_colab_link": true
    },
    "kernelspec": {
      "name": "python3",
      "display_name": "Python 3"
    },
    "language_info": {
      "name": "python"
    },
    "accelerator": "GPU"
  },
  "cells": [
    {
      "cell_type": "markdown",
      "metadata": {
        "id": "view-in-github",
        "colab_type": "text"
      },
      "source": [
        "<a href=\"https://colab.research.google.com/github/PaulSmidt/yolov7/blob/main/Yolov7_Training_v1.ipynb\" target=\"_parent\"><img src=\"https://colab.research.google.com/assets/colab-badge.svg\" alt=\"Open In Colab\"/></a>"
      ]
    },
    {
      "cell_type": "markdown",
      "source": [
        "# **Installation von Yolov7 auf der Maschine**"
      ],
      "metadata": {
        "id": "3YL7TTsdblmh"
      }
    },
    {
      "cell_type": "code",
      "execution_count": null,
      "metadata": {
        "id": "2K4XLm8lbih6"
      },
      "outputs": [],
      "source": [
        "# Install Yolov7\n",
        "!git clone https://github.com/WongKinYiu/yolov7\n",
        "%cd yolov7\n",
        "!pip install -r requirements.txt"
      ]
    },
    {
      "cell_type": "markdown",
      "source": [
        "# **Download der Dateien und Maschine für das Training**"
      ],
      "metadata": {
        "id": "K7RW7NPFcemH"
      }
    },
    {
      "cell_type": "code",
      "source": [
        "# Download der Trainigsdateien über GitHub\n",
        "import requests\n",
        "import zipfile\n",
        "import io\n",
        "\n",
        "%cd content\n",
        "\n",
        "# URL zum ZIP-Archiv auf GitHub\n",
        "github_url = 'https://github.com/PaulSmidt/yolov7/blob/main/Controller.zip'\n",
        "\n",
        "# GitHub-ZIP-Archiv herunterladen\n",
        "response = requests.get(github_url)\n",
        "zip_archiv = zipfile.ZipFile(io.BytesIO(response.content))\n",
        "\n",
        "# Zielverzeichnis für die Entpackung\n",
        "zielverzeichnis = '/content/yolov7/content'\n",
        "\n",
        "# ZIP-Archiv entpacken\n",
        "zip_archiv.extractall(zielverzeichnis)\n",
        "\n",
        "print(f'Das ZIP-Archiv wurde erfolgreich in {zielverzeichnis} entpackt.')\n"
      ],
      "metadata": {
        "id": "RrhR3Rv4cq3D"
      },
      "execution_count": null,
      "outputs": []
    },
    {
      "cell_type": "markdown",
      "source": [
        "Sollte der ZIP Download und das entpacken über GitHub nicht funktionieren, erstellen Sie einen Ordner namens content und laden sie die ZIP manuell dort hoch. Entpacken Sie diese mit dem folgenden Code."
      ],
      "metadata": {
        "id": "g1VDPF9jxRMW"
      }
    },
    {
      "cell_type": "code",
      "source": [
        "# Entpacken einer manuell hochgeladenen Zip-Datei\n",
        "import zipfile\n",
        "import os\n",
        "\n",
        "%cd /content\n",
        "\n",
        "# Pfad zur ZIP-Datei, die Sie entpacken möchten\n",
        "zip_datei = '/content/yolov7/content/archiv.zip'\n",
        "\n",
        "# Zielverzeichnis für die Entpackung\n",
        "zielverzeichnis = '/content/yolov7/content'\n",
        "\n",
        "# ZIP-Datei entpacken\n",
        "with zipfile.ZipFile(zip_datei, 'r') as zip_ref:\n",
        "    zip_ref.extractall(zielverzeichnis)\n",
        "\n",
        "print(f'Die ZIP-Datei wurde erfolgreich in {zielverzeichnis} entpackt.')\n"
      ],
      "metadata": {
        "colab": {
          "base_uri": "https://localhost:8080/"
        },
        "id": "7YlXdR7ExQcG",
        "outputId": "958c9a26-5dc0-4165-d5a0-354d07b72707"
      },
      "execution_count": null,
      "outputs": [
        {
          "output_type": "stream",
          "name": "stdout",
          "text": [
            "/content\n",
            "Die ZIP-Datei wurde erfolgreich in /content/yolov7/content entpackt.\n"
          ]
        }
      ]
    },
    {
      "cell_type": "markdown",
      "source": [
        "# **Vorbereitung der Dateien**"
      ],
      "metadata": {
        "id": "8NorJRw3dDE4"
      }
    },
    {
      "cell_type": "code",
      "source": [
        "import os"
      ],
      "metadata": {
        "id": "tV5YwNuqdNHF"
      },
      "execution_count": null,
      "outputs": []
    },
    {
      "cell_type": "code",
      "source": [
        "# Pfade zur Trainings und Validierungsbildern einfügen!\n",
        "train_img_path = \"/content/yolov7/content/images/train\"  #Pfad zu den Trainingsbildern\n",
        "val_img_path = \"/content/yolov7/content/images/val\"      #Pfad zu den Validierungsbildern"
      ],
      "metadata": {
        "id": "ir5ENFccdOQ9"
      },
      "execution_count": null,
      "outputs": []
    },
    {
      "cell_type": "code",
      "source": [
        "%cd /content"
      ],
      "metadata": {
        "id": "syPq6Nh-dcuq"
      },
      "execution_count": null,
      "outputs": []
    },
    {
      "cell_type": "code",
      "source": [
        "# Sammeln der Bildverzeichnispfade (Train)\n",
        "# Verzeichnis mit den Trainingsbildern\n",
        "verzeichnis = '/content/yolov7/content/images/train'\n",
        "\n",
        "# Pfad zur Textdatei, in die die Bildpfade geschrieben werden sollen\n",
        "txt_datei_pfad = '/content/yolov7/content/train.txt'\n",
        "\n",
        "# Liste für die Bildpfade\n",
        "bildpfade = []\n",
        "\n",
        "# Durch das Verzeichnis iterieren und Bildpfade sammeln\n",
        "for ordnername, _, dateien in os.walk(verzeichnis):\n",
        "    for datei in dateien:\n",
        "        if datei.endswith('.jpg') or datei.endswith('.png') or datei.endswith('.jpeg'):\n",
        "            bildpfad = os.path.join(ordnername, datei)\n",
        "            bildpfade.append(bildpfad)\n",
        "\n",
        "# Bildpfade in die Textdatei schreiben\n",
        "with open(txt_datei_pfad, 'w') as datei:\n",
        "    for pfad in bildpfade:\n",
        "        datei.write(pfad + '\\n')\n",
        "\n",
        "print(f'Bildpfade wurden in {txt_datei_pfad} geschrieben.')"
      ],
      "metadata": {
        "colab": {
          "base_uri": "https://localhost:8080/"
        },
        "id": "1eo6ia1q5cus",
        "outputId": "77c218b0-e9f0-44ce-b6a6-644fbf114a1d"
      },
      "execution_count": null,
      "outputs": [
        {
          "output_type": "stream",
          "name": "stdout",
          "text": [
            "Bildpfade wurden in /content/yolov7/content/train.txt geschrieben.\n"
          ]
        }
      ]
    },
    {
      "cell_type": "code",
      "source": [
        "# Sammeln der Bildverzeichnispfade (Val)\n",
        "# Verzeichnis mit den Validierungsbildern\n",
        "verzeichnis = '/content/yolov7/content/images/val'\n",
        "\n",
        "# Pfad zur Textdatei, in die die Bildpfade geschrieben werden sollen\n",
        "txt_datei_pfad = '/content/yolov7/content/val.txt'\n",
        "\n",
        "# Liste für die Bildpfade\n",
        "bildpfade = []\n",
        "\n",
        "# Durch das Verzeichnis iterieren und Bildpfade sammeln\n",
        "for ordnername, _, dateien in os.walk(verzeichnis):\n",
        "    for datei in dateien:\n",
        "        if datei.endswith('.jpg') or datei.endswith('.png') or datei.endswith('.jpeg'):\n",
        "            bildpfad = os.path.join(ordnername, datei)\n",
        "            bildpfade.append(bildpfad)\n",
        "\n",
        "# Bildpfade in die Textdatei schreiben\n",
        "with open(txt_datei_pfad, 'w') as datei:\n",
        "    for pfad in bildpfade:\n",
        "        datei.write(pfad + '\\n')\n",
        "\n",
        "print(f'Bildpfade wurden in {txt_datei_pfad} geschrieben.')"
      ],
      "metadata": {
        "colab": {
          "base_uri": "https://localhost:8080/"
        },
        "id": "L8BtZl9SejUS",
        "outputId": "afd74a4f-377d-4a4f-e6e7-9669f89200e2"
      },
      "execution_count": null,
      "outputs": [
        {
          "output_type": "stream",
          "name": "stdout",
          "text": [
            "Bildpfade wurden in /content/yolov7/content/val.txt geschrieben.\n"
          ]
        }
      ]
    },
    {
      "cell_type": "markdown",
      "source": [
        "# **Custom Dateien mit Informationen zum Training erstellen**"
      ],
      "metadata": {
        "id": "b7BuIBHufb3B"
      }
    },
    {
      "cell_type": "markdown",
      "source": [
        "Data mit geänderten Labels und nc"
      ],
      "metadata": {
        "id": "z5QesjvZ0_W9"
      }
    },
    {
      "cell_type": "code",
      "source": [
        "import yaml\n",
        "\n",
        "# YAML-Daten als Python Dictionary erstellen\n",
        "yaml_daten = {\n",
        "    'names': ['controller'],\n",
        "    'nc': 1,\n",
        "    'val': r'/content/val.txt',\n",
        "    'train': r'/content/train.txt'\n",
        "}\n",
        "\n",
        "# Pfad zur YAML-Datei\n",
        "pfad = '/content/yolov7/data/config.yaml'\n",
        "\n",
        "# YAML-Daten in die Datei schreiben\n",
        "with open(pfad, 'w') as datei:\n",
        "    yaml.dump(yaml_daten, datei, default_flow_style=False)\n",
        "\n",
        "print(f'YAML-Datei mit Namen \"config.yaml\" wurde im Verzeichnis {pfad} erstellt.')"
      ],
      "metadata": {
        "id": "pUlfVs4Gfm1P"
      },
      "execution_count": null,
      "outputs": []
    },
    {
      "cell_type": "markdown",
      "source": [
        "**Cfg Datei mit custom nc Informationen bearbeiten!!**\n",
        "\n"
      ],
      "metadata": {
        "id": "OZvbjjd41DdG"
      }
    },
    {
      "cell_type": "markdown",
      "source": [
        "# **Begin** **Training**"
      ],
      "metadata": {
        "id": "tHmcvwdG1c2O"
      }
    },
    {
      "cell_type": "markdown",
      "source": [
        "Download der Trainingsdatei. Hier die yolov7-w6_training"
      ],
      "metadata": {
        "id": "G0ruv99t2_ha"
      }
    },
    {
      "cell_type": "code",
      "source": [
        "import requests\n",
        "import os\n",
        "\n",
        "# URL zum Herunterladen der Datei\n",
        "url = 'https://github.com/WongKinYiu/yolov7/releases/download/v0.1/yolov7-w6_training.pt'\n",
        "\n",
        "# Verzeichnis zum Speichern der heruntergeladenen Datei\n",
        "verzeichnis = '/content/yolov7'\n",
        "\n",
        "# Dateipfad für die heruntergeladene Datei\n",
        "dateipfad = os.path.join(verzeichnis, 'yolov7-w6_training.pt')\n",
        "\n",
        "# Die Datei von der URL herunterladen\n",
        "response = requests.get(url)\n",
        "with open(dateipfad, 'wb') as datei:\n",
        "    datei.write(response.content)\n",
        "\n",
        "print(f'Die Datei wurde erfolgreich in {dateipfad} gespeichert.')"
      ],
      "metadata": {
        "id": "__TT8oR32kZ5"
      },
      "execution_count": null,
      "outputs": []
    },
    {
      "cell_type": "markdown",
      "source": [
        "Check auf Cuda verfügbarkeit."
      ],
      "metadata": {
        "id": "DMXsqGoRUCR5"
      }
    },
    {
      "cell_type": "code",
      "source": [
        "import tensorflow as tf\n",
        "import torch\n",
        "torch.cuda.is_available()"
      ],
      "metadata": {
        "colab": {
          "base_uri": "https://localhost:8080/"
        },
        "id": "gOFXEfMM_BZZ",
        "outputId": "d28f2922-2638-46f2-9b1b-2b891f21a8a7"
      },
      "execution_count": null,
      "outputs": [
        {
          "output_type": "execute_result",
          "data": {
            "text/plain": [
              "True"
            ]
          },
          "metadata": {},
          "execution_count": 46
        }
      ]
    },
    {
      "cell_type": "code",
      "source": [
        "#%cd /content/yolov7\n",
        "#!python train_aux.py --device cpu --batch-size 6 --data data/config.yaml --cfg cfg/training/yolov7-w6.yaml --weights yolov7-w6_training.pt --epochs 100"
      ],
      "metadata": {
        "id": "BDt7G32m-bga"
      },
      "execution_count": null,
      "outputs": []
    },
    {
      "cell_type": "code",
      "source": [
        "%cd /content/yolov7\n",
        "!torch.cuda.is_available()\n",
        "!python train_aux.py --device 0 --batch-size 6 --data data/config.yaml --img 1280 1280 --cfg cfg/training/yolov7-w6.yaml --weights yolov7-w6_training.pt --name Controller --hyp data/hyp.scratch.custom.yaml --epochs 100 --exist-ok"
      ],
      "metadata": {
        "id": "QkHGpWy01peF"
      },
      "execution_count": null,
      "outputs": []
    },
    {
      "cell_type": "code",
      "source": [
        "#%cd /content/yolov7\n",
        "#!python train_aux.py --batch 16 --cfg cfg/training/yolov7-w6.yaml --epochs 100 --data data/config.yaml --weights yolov7-w6_training.pt --device 0"
      ],
      "metadata": {
        "id": "d7dy7-nI7imk"
      },
      "execution_count": null,
      "outputs": []
    },
    {
      "cell_type": "markdown",
      "source": [
        "# Export der Dateien"
      ],
      "metadata": {
        "id": "QRKgl_PiMdll"
      }
    },
    {
      "cell_type": "markdown",
      "source": [
        "Gesamtes Verzeichnis der Ergebnisse oder einzelne Dateien. Aufgrund der großen Datenmengen dauert das erstellen des Verzeichnis einen moment."
      ],
      "metadata": {
        "id": "5iu_EZzxR6jg"
      }
    },
    {
      "cell_type": "code",
      "source": [
        "import zipfile\n",
        "import os\n",
        "\n",
        "%cd /content/yolov7\n",
        "\n",
        "# Verzeichnis mit den Dateien, die Sie in das ZIP-Archiv packen möchten\n",
        "verzeichnis = '/content/yolov7/runs/train' #Hier auch einzelne Dateien auswählbar\n",
        "\n",
        "# Name des ZIP-Archivs\n",
        "zip_datei = '/content/yolov7/results.zip' #Name result.zip kann individualisiert werden.\n",
        "\n",
        "# ZIP-Archiv erstellen und die Dateien hinzufügen\n",
        "with zipfile.ZipFile(zip_datei, 'w') as archiv:\n",
        "    for ordnername, _, dateien in os.walk(verzeichnis):\n",
        "        for datei in dateien:\n",
        "            dateipfad = os.path.join(ordnername, datei)\n",
        "            archivname = os.path.relpath(dateipfad, verzeichnis)  # Relativen Pfad im ZIP-Archiv verwenden\n",
        "            archiv.write(dateipfad, archivname)\n",
        "\n",
        "print(f'Die Dateien wurden erfolgreich in {zip_datei} gepackt.')"
      ],
      "metadata": {
        "colab": {
          "base_uri": "https://localhost:8080/"
        },
        "id": "n5mHxQroRYbD",
        "outputId": "e384fb0d-3b96-4e92-9101-5a98fdcd9a7e"
      },
      "execution_count": null,
      "outputs": [
        {
          "output_type": "stream",
          "name": "stdout",
          "text": [
            "/content/yolov7\n",
            "Die Dateien wurden erfolgreich in /content/yolov7/results.zip gepackt.\n"
          ]
        }
      ]
    }
  ]
}