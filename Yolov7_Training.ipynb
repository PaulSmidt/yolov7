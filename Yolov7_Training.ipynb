{
  "nbformat": 4,
  "nbformat_minor": 0,
  "metadata": {
    "colab": {
      "provenance": [],
      "gpuType": "T4",
      "authorship_tag": "ABX9TyOyGPfcXMighpiX9MagatmZ",
      "include_colab_link": true
    },
    "kernelspec": {
      "name": "python3",
      "display_name": "Python 3"
    },
    "language_info": {
      "name": "python"
    },
    "accelerator": "GPU"
  },
  "cells": [
    {
      "cell_type": "markdown",
      "metadata": {
        "id": "view-in-github",
        "colab_type": "text"
      },
      "source": [
        "<a href=\"https://colab.research.google.com/github/PaulSmidt/yolov7/blob/main/Yolov7_Training.ipynb\" target=\"_parent\"><img src=\"https://colab.research.google.com/assets/colab-badge.svg\" alt=\"Open In Colab\"/></a>"
      ]
    },
    {
      "cell_type": "markdown",
      "source": [
        "# **Installation von Yolov7 auf der Maschine**"
      ],
      "metadata": {
        "id": "3YL7TTsdblmh"
      }
    },
    {
      "cell_type": "code",
      "execution_count": 1,
      "metadata": {
        "colab": {
          "base_uri": "https://localhost:8080/"
        },
        "id": "2K4XLm8lbih6",
        "outputId": "122dbe22-924b-452e-9499-899f84ded3c2"
      },
      "outputs": [
        {
          "output_type": "stream",
          "name": "stdout",
          "text": [
            "Cloning into 'yolov7'...\n",
            "remote: Enumerating objects: 1191, done.\u001b[K\n",
            "remote: Total 1191 (delta 0), reused 0 (delta 0), pack-reused 1191\u001b[K\n",
            "Receiving objects: 100% (1191/1191), 74.23 MiB | 30.94 MiB/s, done.\n",
            "Resolving deltas: 100% (513/513), done.\n",
            "/content/yolov7\n",
            "Requirement already satisfied: matplotlib>=3.2.2 in /usr/local/lib/python3.10/dist-packages (from -r requirements.txt (line 4)) (3.7.1)\n",
            "Requirement already satisfied: numpy<1.24.0,>=1.18.5 in /usr/local/lib/python3.10/dist-packages (from -r requirements.txt (line 5)) (1.23.5)\n",
            "Requirement already satisfied: opencv-python>=4.1.1 in /usr/local/lib/python3.10/dist-packages (from -r requirements.txt (line 6)) (4.8.0.76)\n",
            "Requirement already satisfied: Pillow>=7.1.2 in /usr/local/lib/python3.10/dist-packages (from -r requirements.txt (line 7)) (9.4.0)\n",
            "Requirement already satisfied: PyYAML>=5.3.1 in /usr/local/lib/python3.10/dist-packages (from -r requirements.txt (line 8)) (6.0.1)\n",
            "Requirement already satisfied: requests>=2.23.0 in /usr/local/lib/python3.10/dist-packages (from -r requirements.txt (line 9)) (2.31.0)\n",
            "Requirement already satisfied: scipy>=1.4.1 in /usr/local/lib/python3.10/dist-packages (from -r requirements.txt (line 10)) (1.11.3)\n",
            "Requirement already satisfied: torch!=1.12.0,>=1.7.0 in /usr/local/lib/python3.10/dist-packages (from -r requirements.txt (line 11)) (2.1.0+cu118)\n",
            "Requirement already satisfied: torchvision!=0.13.0,>=0.8.1 in /usr/local/lib/python3.10/dist-packages (from -r requirements.txt (line 12)) (0.16.0+cu118)\n",
            "Requirement already satisfied: tqdm>=4.41.0 in /usr/local/lib/python3.10/dist-packages (from -r requirements.txt (line 13)) (4.66.1)\n",
            "Requirement already satisfied: protobuf<4.21.3 in /usr/local/lib/python3.10/dist-packages (from -r requirements.txt (line 14)) (3.20.3)\n",
            "Requirement already satisfied: tensorboard>=2.4.1 in /usr/local/lib/python3.10/dist-packages (from -r requirements.txt (line 17)) (2.14.1)\n",
            "Requirement already satisfied: pandas>=1.1.4 in /usr/local/lib/python3.10/dist-packages (from -r requirements.txt (line 21)) (1.5.3)\n",
            "Requirement already satisfied: seaborn>=0.11.0 in /usr/local/lib/python3.10/dist-packages (from -r requirements.txt (line 22)) (0.12.2)\n",
            "Requirement already satisfied: ipython in /usr/local/lib/python3.10/dist-packages (from -r requirements.txt (line 34)) (7.34.0)\n",
            "Requirement already satisfied: psutil in /usr/local/lib/python3.10/dist-packages (from -r requirements.txt (line 35)) (5.9.5)\n",
            "Collecting thop (from -r requirements.txt (line 36))\n",
            "  Downloading thop-0.1.1.post2209072238-py3-none-any.whl (15 kB)\n",
            "Requirement already satisfied: contourpy>=1.0.1 in /usr/local/lib/python3.10/dist-packages (from matplotlib>=3.2.2->-r requirements.txt (line 4)) (1.1.1)\n",
            "Requirement already satisfied: cycler>=0.10 in /usr/local/lib/python3.10/dist-packages (from matplotlib>=3.2.2->-r requirements.txt (line 4)) (0.12.1)\n",
            "Requirement already satisfied: fonttools>=4.22.0 in /usr/local/lib/python3.10/dist-packages (from matplotlib>=3.2.2->-r requirements.txt (line 4)) (4.43.1)\n",
            "Requirement already satisfied: kiwisolver>=1.0.1 in /usr/local/lib/python3.10/dist-packages (from matplotlib>=3.2.2->-r requirements.txt (line 4)) (1.4.5)\n",
            "Requirement already satisfied: packaging>=20.0 in /usr/local/lib/python3.10/dist-packages (from matplotlib>=3.2.2->-r requirements.txt (line 4)) (23.2)\n",
            "Requirement already satisfied: pyparsing>=2.3.1 in /usr/local/lib/python3.10/dist-packages (from matplotlib>=3.2.2->-r requirements.txt (line 4)) (3.1.1)\n",
            "Requirement already satisfied: python-dateutil>=2.7 in /usr/local/lib/python3.10/dist-packages (from matplotlib>=3.2.2->-r requirements.txt (line 4)) (2.8.2)\n",
            "Requirement already satisfied: charset-normalizer<4,>=2 in /usr/local/lib/python3.10/dist-packages (from requests>=2.23.0->-r requirements.txt (line 9)) (3.3.0)\n",
            "Requirement already satisfied: idna<4,>=2.5 in /usr/local/lib/python3.10/dist-packages (from requests>=2.23.0->-r requirements.txt (line 9)) (3.4)\n",
            "Requirement already satisfied: urllib3<3,>=1.21.1 in /usr/local/lib/python3.10/dist-packages (from requests>=2.23.0->-r requirements.txt (line 9)) (2.0.7)\n",
            "Requirement already satisfied: certifi>=2017.4.17 in /usr/local/lib/python3.10/dist-packages (from requests>=2.23.0->-r requirements.txt (line 9)) (2023.7.22)\n",
            "Requirement already satisfied: filelock in /usr/local/lib/python3.10/dist-packages (from torch!=1.12.0,>=1.7.0->-r requirements.txt (line 11)) (3.12.4)\n",
            "Requirement already satisfied: typing-extensions in /usr/local/lib/python3.10/dist-packages (from torch!=1.12.0,>=1.7.0->-r requirements.txt (line 11)) (4.5.0)\n",
            "Requirement already satisfied: sympy in /usr/local/lib/python3.10/dist-packages (from torch!=1.12.0,>=1.7.0->-r requirements.txt (line 11)) (1.12)\n",
            "Requirement already satisfied: networkx in /usr/local/lib/python3.10/dist-packages (from torch!=1.12.0,>=1.7.0->-r requirements.txt (line 11)) (3.2)\n",
            "Requirement already satisfied: jinja2 in /usr/local/lib/python3.10/dist-packages (from torch!=1.12.0,>=1.7.0->-r requirements.txt (line 11)) (3.1.2)\n",
            "Requirement already satisfied: fsspec in /usr/local/lib/python3.10/dist-packages (from torch!=1.12.0,>=1.7.0->-r requirements.txt (line 11)) (2023.6.0)\n",
            "Requirement already satisfied: triton==2.1.0 in /usr/local/lib/python3.10/dist-packages (from torch!=1.12.0,>=1.7.0->-r requirements.txt (line 11)) (2.1.0)\n",
            "Requirement already satisfied: absl-py>=0.4 in /usr/local/lib/python3.10/dist-packages (from tensorboard>=2.4.1->-r requirements.txt (line 17)) (1.4.0)\n",
            "Requirement already satisfied: grpcio>=1.48.2 in /usr/local/lib/python3.10/dist-packages (from tensorboard>=2.4.1->-r requirements.txt (line 17)) (1.59.0)\n",
            "Requirement already satisfied: google-auth<3,>=1.6.3 in /usr/local/lib/python3.10/dist-packages (from tensorboard>=2.4.1->-r requirements.txt (line 17)) (2.17.3)\n",
            "Requirement already satisfied: google-auth-oauthlib<1.1,>=0.5 in /usr/local/lib/python3.10/dist-packages (from tensorboard>=2.4.1->-r requirements.txt (line 17)) (1.0.0)\n",
            "Requirement already satisfied: markdown>=2.6.8 in /usr/local/lib/python3.10/dist-packages (from tensorboard>=2.4.1->-r requirements.txt (line 17)) (3.5)\n",
            "Requirement already satisfied: setuptools>=41.0.0 in /usr/local/lib/python3.10/dist-packages (from tensorboard>=2.4.1->-r requirements.txt (line 17)) (67.7.2)\n",
            "Requirement already satisfied: six>1.9 in /usr/local/lib/python3.10/dist-packages (from tensorboard>=2.4.1->-r requirements.txt (line 17)) (1.16.0)\n",
            "Requirement already satisfied: tensorboard-data-server<0.8.0,>=0.7.0 in /usr/local/lib/python3.10/dist-packages (from tensorboard>=2.4.1->-r requirements.txt (line 17)) (0.7.1)\n",
            "Requirement already satisfied: werkzeug>=1.0.1 in /usr/local/lib/python3.10/dist-packages (from tensorboard>=2.4.1->-r requirements.txt (line 17)) (3.0.0)\n",
            "Requirement already satisfied: pytz>=2020.1 in /usr/local/lib/python3.10/dist-packages (from pandas>=1.1.4->-r requirements.txt (line 21)) (2023.3.post1)\n",
            "Collecting jedi>=0.16 (from ipython->-r requirements.txt (line 34))\n",
            "  Downloading jedi-0.19.1-py2.py3-none-any.whl (1.6 MB)\n",
            "\u001b[2K     \u001b[90m━━━━━━━━━━━━━━━━━━━━━━━━━━━━━━━━━━━━━━━━\u001b[0m \u001b[32m1.6/1.6 MB\u001b[0m \u001b[31m8.3 MB/s\u001b[0m eta \u001b[36m0:00:00\u001b[0m\n",
            "\u001b[?25hRequirement already satisfied: decorator in /usr/local/lib/python3.10/dist-packages (from ipython->-r requirements.txt (line 34)) (4.4.2)\n",
            "Requirement already satisfied: pickleshare in /usr/local/lib/python3.10/dist-packages (from ipython->-r requirements.txt (line 34)) (0.7.5)\n",
            "Requirement already satisfied: traitlets>=4.2 in /usr/local/lib/python3.10/dist-packages (from ipython->-r requirements.txt (line 34)) (5.7.1)\n",
            "Requirement already satisfied: prompt-toolkit!=3.0.0,!=3.0.1,<3.1.0,>=2.0.0 in /usr/local/lib/python3.10/dist-packages (from ipython->-r requirements.txt (line 34)) (3.0.39)\n",
            "Requirement already satisfied: pygments in /usr/local/lib/python3.10/dist-packages (from ipython->-r requirements.txt (line 34)) (2.16.1)\n",
            "Requirement already satisfied: backcall in /usr/local/lib/python3.10/dist-packages (from ipython->-r requirements.txt (line 34)) (0.2.0)\n",
            "Requirement already satisfied: matplotlib-inline in /usr/local/lib/python3.10/dist-packages (from ipython->-r requirements.txt (line 34)) (0.1.6)\n",
            "Requirement already satisfied: pexpect>4.3 in /usr/local/lib/python3.10/dist-packages (from ipython->-r requirements.txt (line 34)) (4.8.0)\n",
            "Requirement already satisfied: cachetools<6.0,>=2.0.0 in /usr/local/lib/python3.10/dist-packages (from google-auth<3,>=1.6.3->tensorboard>=2.4.1->-r requirements.txt (line 17)) (5.3.1)\n",
            "Requirement already satisfied: pyasn1-modules>=0.2.1 in /usr/local/lib/python3.10/dist-packages (from google-auth<3,>=1.6.3->tensorboard>=2.4.1->-r requirements.txt (line 17)) (0.3.0)\n",
            "Requirement already satisfied: rsa<5,>=3.1.4 in /usr/local/lib/python3.10/dist-packages (from google-auth<3,>=1.6.3->tensorboard>=2.4.1->-r requirements.txt (line 17)) (4.9)\n",
            "Requirement already satisfied: requests-oauthlib>=0.7.0 in /usr/local/lib/python3.10/dist-packages (from google-auth-oauthlib<1.1,>=0.5->tensorboard>=2.4.1->-r requirements.txt (line 17)) (1.3.1)\n",
            "Requirement already satisfied: parso<0.9.0,>=0.8.3 in /usr/local/lib/python3.10/dist-packages (from jedi>=0.16->ipython->-r requirements.txt (line 34)) (0.8.3)\n",
            "Requirement already satisfied: ptyprocess>=0.5 in /usr/local/lib/python3.10/dist-packages (from pexpect>4.3->ipython->-r requirements.txt (line 34)) (0.7.0)\n",
            "Requirement already satisfied: wcwidth in /usr/local/lib/python3.10/dist-packages (from prompt-toolkit!=3.0.0,!=3.0.1,<3.1.0,>=2.0.0->ipython->-r requirements.txt (line 34)) (0.2.8)\n",
            "Requirement already satisfied: MarkupSafe>=2.1.1 in /usr/local/lib/python3.10/dist-packages (from werkzeug>=1.0.1->tensorboard>=2.4.1->-r requirements.txt (line 17)) (2.1.3)\n",
            "Requirement already satisfied: mpmath>=0.19 in /usr/local/lib/python3.10/dist-packages (from sympy->torch!=1.12.0,>=1.7.0->-r requirements.txt (line 11)) (1.3.0)\n",
            "Requirement already satisfied: pyasn1<0.6.0,>=0.4.6 in /usr/local/lib/python3.10/dist-packages (from pyasn1-modules>=0.2.1->google-auth<3,>=1.6.3->tensorboard>=2.4.1->-r requirements.txt (line 17)) (0.5.0)\n",
            "Requirement already satisfied: oauthlib>=3.0.0 in /usr/local/lib/python3.10/dist-packages (from requests-oauthlib>=0.7.0->google-auth-oauthlib<1.1,>=0.5->tensorboard>=2.4.1->-r requirements.txt (line 17)) (3.2.2)\n",
            "Installing collected packages: jedi, thop\n",
            "Successfully installed jedi-0.19.1 thop-0.1.1.post2209072238\n"
          ]
        }
      ],
      "source": [
        "!git clone https://github.com/WongKinYiu/yolov7\n",
        "%cd yolov7\n",
        "!pip install -r requirements.txt"
      ]
    },
    {
      "cell_type": "markdown",
      "source": [
        "# **Download der Dateien und Maschine für das Training**"
      ],
      "metadata": {
        "id": "K7RW7NPFcemH"
      }
    },
    {
      "cell_type": "code",
      "source": [
        "#Download der Trainigsdateien über GitHub\n",
        "import requests\n",
        "import zipfile\n",
        "import io\n",
        "\n",
        "%cd content\n",
        "\n",
        "# URL zum ZIP-Archiv auf GitHub\n",
        "github_url = 'https://github.com/PaulSmidt/yolov7/blob/main/Controller.zip'\n",
        "\n",
        "# GitHub-ZIP-Archiv herunterladen\n",
        "response = requests.get(github_url)\n",
        "zip_archiv = zipfile.ZipFile(io.BytesIO(response.content))\n",
        "\n",
        "# Zielverzeichnis für die Entpackung\n",
        "zielverzeichnis = '/content/yolov7/content'\n",
        "\n",
        "# ZIP-Archiv entpacken\n",
        "zip_archiv.extractall(zielverzeichnis)\n",
        "\n",
        "print(f'Das ZIP-Archiv wurde erfolgreich in {zielverzeichnis} entpackt.')\n"
      ],
      "metadata": {
        "colab": {
          "base_uri": "https://localhost:8080/",
          "height": 427
        },
        "id": "RrhR3Rv4cq3D",
        "outputId": "5b2d8121-aa21-4e7b-883a-d2a8c24d4e67"
      },
      "execution_count": 6,
      "outputs": [
        {
          "output_type": "stream",
          "name": "stdout",
          "text": [
            "[Errno 2] No such file or directory: 'content'\n",
            "/content\n"
          ]
        },
        {
          "output_type": "error",
          "ename": "BadZipFile",
          "evalue": "ignored",
          "traceback": [
            "\u001b[0;31m---------------------------------------------------------------------------\u001b[0m",
            "\u001b[0;31mBadZipFile\u001b[0m                                Traceback (most recent call last)",
            "\u001b[0;32m<ipython-input-6-9e2e2edbdc66>\u001b[0m in \u001b[0;36m<cell line: 13>\u001b[0;34m()\u001b[0m\n\u001b[1;32m     11\u001b[0m \u001b[0;31m# GitHub-ZIP-Archiv herunterladen\u001b[0m\u001b[0;34m\u001b[0m\u001b[0;34m\u001b[0m\u001b[0m\n\u001b[1;32m     12\u001b[0m \u001b[0mresponse\u001b[0m \u001b[0;34m=\u001b[0m \u001b[0mrequests\u001b[0m\u001b[0;34m.\u001b[0m\u001b[0mget\u001b[0m\u001b[0;34m(\u001b[0m\u001b[0mgithub_url\u001b[0m\u001b[0;34m)\u001b[0m\u001b[0;34m\u001b[0m\u001b[0;34m\u001b[0m\u001b[0m\n\u001b[0;32m---> 13\u001b[0;31m \u001b[0mzip_archiv\u001b[0m \u001b[0;34m=\u001b[0m \u001b[0mzipfile\u001b[0m\u001b[0;34m.\u001b[0m\u001b[0mZipFile\u001b[0m\u001b[0;34m(\u001b[0m\u001b[0mio\u001b[0m\u001b[0;34m.\u001b[0m\u001b[0mBytesIO\u001b[0m\u001b[0;34m(\u001b[0m\u001b[0mresponse\u001b[0m\u001b[0;34m.\u001b[0m\u001b[0mcontent\u001b[0m\u001b[0;34m)\u001b[0m\u001b[0;34m)\u001b[0m\u001b[0;34m\u001b[0m\u001b[0;34m\u001b[0m\u001b[0m\n\u001b[0m\u001b[1;32m     14\u001b[0m \u001b[0;34m\u001b[0m\u001b[0m\n\u001b[1;32m     15\u001b[0m \u001b[0;31m# Zielverzeichnis für die Entpackung\u001b[0m\u001b[0;34m\u001b[0m\u001b[0;34m\u001b[0m\u001b[0m\n",
            "\u001b[0;32m/usr/lib/python3.10/zipfile.py\u001b[0m in \u001b[0;36m__init__\u001b[0;34m(self, file, mode, compression, allowZip64, compresslevel, strict_timestamps)\u001b[0m\n\u001b[1;32m   1267\u001b[0m         \u001b[0;32mtry\u001b[0m\u001b[0;34m:\u001b[0m\u001b[0;34m\u001b[0m\u001b[0;34m\u001b[0m\u001b[0m\n\u001b[1;32m   1268\u001b[0m             \u001b[0;32mif\u001b[0m \u001b[0mmode\u001b[0m \u001b[0;34m==\u001b[0m \u001b[0;34m'r'\u001b[0m\u001b[0;34m:\u001b[0m\u001b[0;34m\u001b[0m\u001b[0;34m\u001b[0m\u001b[0m\n\u001b[0;32m-> 1269\u001b[0;31m                 \u001b[0mself\u001b[0m\u001b[0;34m.\u001b[0m\u001b[0m_RealGetContents\u001b[0m\u001b[0;34m(\u001b[0m\u001b[0;34m)\u001b[0m\u001b[0;34m\u001b[0m\u001b[0;34m\u001b[0m\u001b[0m\n\u001b[0m\u001b[1;32m   1270\u001b[0m             \u001b[0;32melif\u001b[0m \u001b[0mmode\u001b[0m \u001b[0;32min\u001b[0m \u001b[0;34m(\u001b[0m\u001b[0;34m'w'\u001b[0m\u001b[0;34m,\u001b[0m \u001b[0;34m'x'\u001b[0m\u001b[0;34m)\u001b[0m\u001b[0;34m:\u001b[0m\u001b[0;34m\u001b[0m\u001b[0;34m\u001b[0m\u001b[0m\n\u001b[1;32m   1271\u001b[0m                 \u001b[0;31m# set the modified flag so central directory gets written\u001b[0m\u001b[0;34m\u001b[0m\u001b[0;34m\u001b[0m\u001b[0m\n",
            "\u001b[0;32m/usr/lib/python3.10/zipfile.py\u001b[0m in \u001b[0;36m_RealGetContents\u001b[0;34m(self)\u001b[0m\n\u001b[1;32m   1334\u001b[0m             \u001b[0;32mraise\u001b[0m \u001b[0mBadZipFile\u001b[0m\u001b[0;34m(\u001b[0m\u001b[0;34m\"File is not a zip file\"\u001b[0m\u001b[0;34m)\u001b[0m\u001b[0;34m\u001b[0m\u001b[0;34m\u001b[0m\u001b[0m\n\u001b[1;32m   1335\u001b[0m         \u001b[0;32mif\u001b[0m \u001b[0;32mnot\u001b[0m \u001b[0mendrec\u001b[0m\u001b[0;34m:\u001b[0m\u001b[0;34m\u001b[0m\u001b[0;34m\u001b[0m\u001b[0m\n\u001b[0;32m-> 1336\u001b[0;31m             \u001b[0;32mraise\u001b[0m \u001b[0mBadZipFile\u001b[0m\u001b[0;34m(\u001b[0m\u001b[0;34m\"File is not a zip file\"\u001b[0m\u001b[0;34m)\u001b[0m\u001b[0;34m\u001b[0m\u001b[0;34m\u001b[0m\u001b[0m\n\u001b[0m\u001b[1;32m   1337\u001b[0m         \u001b[0;32mif\u001b[0m \u001b[0mself\u001b[0m\u001b[0;34m.\u001b[0m\u001b[0mdebug\u001b[0m \u001b[0;34m>\u001b[0m \u001b[0;36m1\u001b[0m\u001b[0;34m:\u001b[0m\u001b[0;34m\u001b[0m\u001b[0;34m\u001b[0m\u001b[0m\n\u001b[1;32m   1338\u001b[0m             \u001b[0mprint\u001b[0m\u001b[0;34m(\u001b[0m\u001b[0mendrec\u001b[0m\u001b[0;34m)\u001b[0m\u001b[0;34m\u001b[0m\u001b[0;34m\u001b[0m\u001b[0m\n",
            "\u001b[0;31mBadZipFile\u001b[0m: File is not a zip file"
          ]
        }
      ]
    },
    {
      "cell_type": "markdown",
      "source": [
        "Sollte der ZIP Download und das entpacken über GitHub nicht funktionieren, erstellen Sie einen Ordner namens content und laden sie die ZIP manuell dort hoch. Entpacken Sie diese mit dem folgenden Code."
      ],
      "metadata": {
        "id": "g1VDPF9jxRMW"
      }
    },
    {
      "cell_type": "code",
      "source": [
        "import zipfile\n",
        "import os\n",
        "\n",
        "%cd /content\n",
        "\n",
        "# Pfad zur ZIP-Datei, die Sie entpacken möchten\n",
        "zip_datei = '/content/yolov7/content/archiv.zip'\n",
        "\n",
        "# Zielverzeichnis für die Entpackung\n",
        "zielverzeichnis = '/content/yolov7/content'\n",
        "\n",
        "# ZIP-Datei entpacken\n",
        "with zipfile.ZipFile(zip_datei, 'r') as zip_ref:\n",
        "    zip_ref.extractall(zielverzeichnis)\n",
        "\n",
        "print(f'Die ZIP-Datei wurde erfolgreich in {zielverzeichnis} entpackt.')\n"
      ],
      "metadata": {
        "colab": {
          "base_uri": "https://localhost:8080/"
        },
        "id": "7YlXdR7ExQcG",
        "outputId": "958c9a26-5dc0-4165-d5a0-354d07b72707"
      },
      "execution_count": 5,
      "outputs": [
        {
          "output_type": "stream",
          "name": "stdout",
          "text": [
            "/content\n",
            "Die ZIP-Datei wurde erfolgreich in /content/yolov7/content entpackt.\n"
          ]
        }
      ]
    },
    {
      "cell_type": "markdown",
      "source": [
        "# **Vorbereitung der Dateien**"
      ],
      "metadata": {
        "id": "8NorJRw3dDE4"
      }
    },
    {
      "cell_type": "code",
      "source": [
        "import os"
      ],
      "metadata": {
        "id": "tV5YwNuqdNHF"
      },
      "execution_count": 8,
      "outputs": []
    },
    {
      "cell_type": "code",
      "source": [
        "train_img_path = \"/content/yolov7/content/images/train\"  #Pfad zu den Trainingsbildern\n",
        "val_img_path = \"/content/yolov7/content/images/val\"      #Pfad zu den Validierungsbildern"
      ],
      "metadata": {
        "id": "ir5ENFccdOQ9"
      },
      "execution_count": 12,
      "outputs": []
    },
    {
      "cell_type": "code",
      "source": [
        "%cd /content"
      ],
      "metadata": {
        "colab": {
          "base_uri": "https://localhost:8080/"
        },
        "id": "syPq6Nh-dcuq",
        "outputId": "6794fbac-4165-4513-aef4-7d010f2ae50c"
      },
      "execution_count": 13,
      "outputs": [
        {
          "output_type": "stream",
          "name": "stdout",
          "text": [
            "/content\n"
          ]
        }
      ]
    },
    {
      "cell_type": "code",
      "source": [
        "# Verzeichnis mit den Trainingsbildern\n",
        "verzeichnis = '/content/yolov7/content/images/train'\n",
        "\n",
        "# Pfad zur Textdatei, in die die Bildpfade geschrieben werden sollen\n",
        "txt_datei_pfad = '/content/yolov7/content/train.txt'\n",
        "\n",
        "# Liste für die Bildpfade\n",
        "bildpfade = []\n",
        "\n",
        "# Durch das Verzeichnis iterieren und Bildpfade sammeln\n",
        "for ordnername, _, dateien in os.walk(verzeichnis):\n",
        "    for datei in dateien:\n",
        "        if datei.endswith('.jpg') or datei.endswith('.png') or datei.endswith('.jpeg'):\n",
        "            bildpfad = os.path.join(ordnername, datei)\n",
        "            bildpfade.append(bildpfad)\n",
        "\n",
        "# Bildpfade in die Textdatei schreiben\n",
        "with open(txt_datei_pfad, 'w') as datei:\n",
        "    for pfad in bildpfade:\n",
        "        datei.write(pfad + '\\n')\n",
        "\n",
        "print(f'Bildpfade wurden in {txt_datei_pfad} geschrieben.')"
      ],
      "metadata": {
        "colab": {
          "base_uri": "https://localhost:8080/"
        },
        "id": "1eo6ia1q5cus",
        "outputId": "77c218b0-e9f0-44ce-b6a6-644fbf114a1d"
      },
      "execution_count": 29,
      "outputs": [
        {
          "output_type": "stream",
          "name": "stdout",
          "text": [
            "Bildpfade wurden in /content/yolov7/content/train.txt geschrieben.\n"
          ]
        }
      ]
    },
    {
      "cell_type": "code",
      "source": [
        "# Verzeichnis mit den Validierungsbildern\n",
        "verzeichnis = '/content/yolov7/content/images/val'\n",
        "\n",
        "# Pfad zur Textdatei, in die die Bildpfade geschrieben werden sollen\n",
        "txt_datei_pfad = '/content/yolov7/content/val.txt'\n",
        "\n",
        "# Liste für die Bildpfade\n",
        "bildpfade = []\n",
        "\n",
        "# Durch das Verzeichnis iterieren und Bildpfade sammeln\n",
        "for ordnername, _, dateien in os.walk(verzeichnis):\n",
        "    for datei in dateien:\n",
        "        if datei.endswith('.jpg') or datei.endswith('.png') or datei.endswith('.jpeg'):\n",
        "            bildpfad = os.path.join(ordnername, datei)\n",
        "            bildpfade.append(bildpfad)\n",
        "\n",
        "# Bildpfade in die Textdatei schreiben\n",
        "with open(txt_datei_pfad, 'w') as datei:\n",
        "    for pfad in bildpfade:\n",
        "        datei.write(pfad + '\\n')\n",
        "\n",
        "print(f'Bildpfade wurden in {txt_datei_pfad} geschrieben.')"
      ],
      "metadata": {
        "colab": {
          "base_uri": "https://localhost:8080/"
        },
        "id": "L8BtZl9SejUS",
        "outputId": "afd74a4f-377d-4a4f-e6e7-9669f89200e2"
      },
      "execution_count": 30,
      "outputs": [
        {
          "output_type": "stream",
          "name": "stdout",
          "text": [
            "Bildpfade wurden in /content/yolov7/content/val.txt geschrieben.\n"
          ]
        }
      ]
    },
    {
      "cell_type": "markdown",
      "source": [
        "# **Custom Dateien mit Informationen zum Training erstellen**"
      ],
      "metadata": {
        "id": "b7BuIBHufb3B"
      }
    },
    {
      "cell_type": "markdown",
      "source": [
        "Data mit geänderten Labels und nc"
      ],
      "metadata": {
        "id": "z5QesjvZ0_W9"
      }
    },
    {
      "cell_type": "code",
      "source": [
        "import yaml\n",
        "\n",
        "# YAML-Daten als Python Dictionary erstellen\n",
        "yaml_daten = {\n",
        "    'names': ['controller'],\n",
        "    'nc': 1,\n",
        "    'val': r'/content/val.txt',\n",
        "    'train': r'/content/train.txt'\n",
        "}\n",
        "\n",
        "# Pfad zur YAML-Datei\n",
        "pfad = '/content/yolov7/data/config.yaml'\n",
        "\n",
        "# YAML-Daten in die Datei schreiben\n",
        "with open(pfad, 'w') as datei:\n",
        "    yaml.dump(yaml_daten, datei, default_flow_style=False)\n",
        "\n",
        "print(f'YAML-Datei mit Namen \"config.yaml\" wurde im Verzeichnis {pfad} erstellt.')"
      ],
      "metadata": {
        "colab": {
          "base_uri": "https://localhost:8080/"
        },
        "id": "pUlfVs4Gfm1P",
        "outputId": "e7334e6e-260e-4603-fad8-13909165bb0a"
      },
      "execution_count": 20,
      "outputs": [
        {
          "output_type": "stream",
          "name": "stdout",
          "text": [
            "YAML-Datei mit Namen \"config.yaml\" wurde im Verzeichnis /content/yolov7/data/config.yaml erstellt.\n"
          ]
        }
      ]
    },
    {
      "cell_type": "markdown",
      "source": [
        "**Cfg Datei mit custom nc Informationen bearbeiten!!**\n",
        "\n"
      ],
      "metadata": {
        "id": "OZvbjjd41DdG"
      }
    },
    {
      "cell_type": "markdown",
      "source": [
        "# **Begin** **Training**"
      ],
      "metadata": {
        "id": "tHmcvwdG1c2O"
      }
    },
    {
      "cell_type": "markdown",
      "source": [
        "Download der Trainingsdatei. Hier die yolov7-w6_training"
      ],
      "metadata": {
        "id": "G0ruv99t2_ha"
      }
    },
    {
      "cell_type": "code",
      "source": [
        "import requests\n",
        "import os\n",
        "\n",
        "# URL zum Herunterladen der Datei\n",
        "url = 'https://github.com/WongKinYiu/yolov7/releases/download/v0.1/yolov7-w6_training.pt'\n",
        "\n",
        "# Verzeichnis zum Speichern der heruntergeladenen Datei\n",
        "verzeichnis = '/content/yolov7'\n",
        "\n",
        "# Dateipfad für die heruntergeladene Datei\n",
        "dateipfad = os.path.join(verzeichnis, 'yolov7-w6_training.pt')\n",
        "\n",
        "# Die Datei von der URL herunterladen\n",
        "response = requests.get(url)\n",
        "with open(dateipfad, 'wb') as datei:\n",
        "    datei.write(response.content)\n",
        "\n",
        "print(f'Die Datei wurde erfolgreich in {dateipfad} gespeichert.')"
      ],
      "metadata": {
        "colab": {
          "base_uri": "https://localhost:8080/"
        },
        "id": "__TT8oR32kZ5",
        "outputId": "1209a187-4a5e-473e-dbec-36fc7444bde1"
      },
      "execution_count": 24,
      "outputs": [
        {
          "output_type": "stream",
          "name": "stdout",
          "text": [
            "Die Datei wurde erfolgreich in /content/yolov7/yolov7-w6_training.pt gespeichert.\n"
          ]
        }
      ]
    },
    {
      "cell_type": "code",
      "source": [
        "import tensorflow as tf\n",
        "import torch\n",
        "torch.cuda.is_available()"
      ],
      "metadata": {
        "colab": {
          "base_uri": "https://localhost:8080/"
        },
        "id": "gOFXEfMM_BZZ",
        "outputId": "d28f2922-2638-46f2-9b1b-2b891f21a8a7"
      },
      "execution_count": 46,
      "outputs": [
        {
          "output_type": "execute_result",
          "data": {
            "text/plain": [
              "True"
            ]
          },
          "metadata": {},
          "execution_count": 46
        }
      ]
    },
    {
      "cell_type": "code",
      "source": [
        "%cd /content/yolov7\n",
        "!python train_aux.py --device cpu --batch-size 6 --data data/config.yaml --cfg cfg/training/yolov7-w6.yaml --weights yolov7-w6_training.pt --epochs 100"
      ],
      "metadata": {
        "id": "BDt7G32m-bga"
      },
      "execution_count": null,
      "outputs": []
    },
    {
      "cell_type": "code",
      "source": [
        "%cd /content/yolov7\n",
        "!torch.cuda.is_available()\n",
        "!python train_aux.py --device 0 --batch-size 6 --data data/config.yaml --img 1280 1280 --cfg cfg/training/yolov7-w6.yaml --weights yolov7-w6_training.pt --name Controller --hyp data/hyp.scratch.custom.yaml --epochs 100 --exist-ok"
      ],
      "metadata": {
        "colab": {
          "base_uri": "https://localhost:8080/"
        },
        "id": "QkHGpWy01peF",
        "outputId": "0a091ee2-d33b-4425-cd03-9a35756d002b"
      },
      "execution_count": 60,
      "outputs": [
        {
          "output_type": "stream",
          "name": "stdout",
          "text": [
            "/content/yolov7\n",
            "/bin/bash: -c: line 2: syntax error: unexpected end of file\n",
            "2023-10-24 19:10:19.038460: E tensorflow/compiler/xla/stream_executor/cuda/cuda_dnn.cc:9342] Unable to register cuDNN factory: Attempting to register factory for plugin cuDNN when one has already been registered\n",
            "2023-10-24 19:10:19.038512: E tensorflow/compiler/xla/stream_executor/cuda/cuda_fft.cc:609] Unable to register cuFFT factory: Attempting to register factory for plugin cuFFT when one has already been registered\n",
            "2023-10-24 19:10:19.038552: E tensorflow/compiler/xla/stream_executor/cuda/cuda_blas.cc:1518] Unable to register cuBLAS factory: Attempting to register factory for plugin cuBLAS when one has already been registered\n",
            "2023-10-24 19:10:20.120167: W tensorflow/compiler/tf2tensorrt/utils/py_utils.cc:38] TF-TRT Warning: Could not find TensorRT\n",
            "YOLOR 🚀 v0.1-126-g84932d7 torch 2.1.0+cu118 CUDA:0 (Tesla T4, 15101.8125MB)\n",
            "\n",
            "Namespace(weights='yolov7-w6_training.pt', cfg='cfg/training/yolov7-w6.yaml', data='data/config.yaml', hyp='data/hyp.scratch.custom.yaml', epochs=100, batch_size=6, img_size=[1280, 1280], rect=False, resume=False, nosave=False, notest=False, noautoanchor=False, evolve=False, bucket='', cache_images=False, image_weights=False, device='0', multi_scale=False, single_cls=False, adam=False, sync_bn=False, local_rank=-1, workers=8, project='runs/train', entity=None, name='Controller', exist_ok=True, quad=False, linear_lr=False, label_smoothing=0.0, upload_dataset=False, bbox_interval=-1, save_period=-1, artifact_alias='latest', v5_metric=False, world_size=1, global_rank=-1, save_dir='runs/train/Controller', total_batch_size=6)\n",
            "\u001b[34m\u001b[1mtensorboard: \u001b[0mStart with 'tensorboard --logdir runs/train', view at http://localhost:6006/\n",
            "\u001b[34m\u001b[1mhyperparameters: \u001b[0mlr0=0.01, lrf=0.1, momentum=0.937, weight_decay=0.0005, warmup_epochs=3.0, warmup_momentum=0.8, warmup_bias_lr=0.1, box=0.05, cls=0.3, cls_pw=1.0, obj=0.7, obj_pw=1.0, iou_t=0.2, anchor_t=4.0, fl_gamma=0.0, hsv_h=0.015, hsv_s=0.7, hsv_v=0.4, degrees=0.0, translate=0.2, scale=0.5, shear=0.0, perspective=0.0, flipud=0.0, fliplr=0.5, mosaic=1.0, mixup=0.0, copy_paste=0.0, paste_in=0.0, loss_ota=1\n",
            "\u001b[34m\u001b[1mwandb: \u001b[0mInstall Weights & Biases for YOLOR logging with 'pip install wandb' (recommended)\n",
            "\n",
            "                 from  n    params  module                                  arguments                     \n",
            "  0                -1  1         0  models.common.ReOrg                     []                            \n",
            "  1                -1  1      7040  models.common.Conv                      [12, 64, 3, 1]                \n",
            "  2                -1  1     73984  models.common.Conv                      [64, 128, 3, 2]               \n",
            "  3                -1  1      8320  models.common.Conv                      [128, 64, 1, 1]               \n",
            "  4                -2  1      8320  models.common.Conv                      [128, 64, 1, 1]               \n",
            "  5                -1  1     36992  models.common.Conv                      [64, 64, 3, 1]                \n",
            "  6                -1  1     36992  models.common.Conv                      [64, 64, 3, 1]                \n",
            "  7                -1  1     36992  models.common.Conv                      [64, 64, 3, 1]                \n",
            "  8                -1  1     36992  models.common.Conv                      [64, 64, 3, 1]                \n",
            "  9  [-1, -3, -5, -6]  1         0  models.common.Concat                    [1]                           \n",
            " 10                -1  1     33024  models.common.Conv                      [256, 128, 1, 1]              \n",
            " 11                -1  1    295424  models.common.Conv                      [128, 256, 3, 2]              \n",
            " 12                -1  1     33024  models.common.Conv                      [256, 128, 1, 1]              \n",
            " 13                -2  1     33024  models.common.Conv                      [256, 128, 1, 1]              \n",
            " 14                -1  1    147712  models.common.Conv                      [128, 128, 3, 1]              \n",
            " 15                -1  1    147712  models.common.Conv                      [128, 128, 3, 1]              \n",
            " 16                -1  1    147712  models.common.Conv                      [128, 128, 3, 1]              \n",
            " 17                -1  1    147712  models.common.Conv                      [128, 128, 3, 1]              \n",
            " 18  [-1, -3, -5, -6]  1         0  models.common.Concat                    [1]                           \n",
            " 19                -1  1    131584  models.common.Conv                      [512, 256, 1, 1]              \n",
            " 20                -1  1   1180672  models.common.Conv                      [256, 512, 3, 2]              \n",
            " 21                -1  1    131584  models.common.Conv                      [512, 256, 1, 1]              \n",
            " 22                -2  1    131584  models.common.Conv                      [512, 256, 1, 1]              \n",
            " 23                -1  1    590336  models.common.Conv                      [256, 256, 3, 1]              \n",
            " 24                -1  1    590336  models.common.Conv                      [256, 256, 3, 1]              \n",
            " 25                -1  1    590336  models.common.Conv                      [256, 256, 3, 1]              \n",
            " 26                -1  1    590336  models.common.Conv                      [256, 256, 3, 1]              \n",
            " 27  [-1, -3, -5, -6]  1         0  models.common.Concat                    [1]                           \n",
            " 28                -1  1    525312  models.common.Conv                      [1024, 512, 1, 1]             \n",
            " 29                -1  1   3540480  models.common.Conv                      [512, 768, 3, 2]              \n",
            " 30                -1  1    295680  models.common.Conv                      [768, 384, 1, 1]              \n",
            " 31                -2  1    295680  models.common.Conv                      [768, 384, 1, 1]              \n",
            " 32                -1  1   1327872  models.common.Conv                      [384, 384, 3, 1]              \n",
            " 33                -1  1   1327872  models.common.Conv                      [384, 384, 3, 1]              \n",
            " 34                -1  1   1327872  models.common.Conv                      [384, 384, 3, 1]              \n",
            " 35                -1  1   1327872  models.common.Conv                      [384, 384, 3, 1]              \n",
            " 36  [-1, -3, -5, -6]  1         0  models.common.Concat                    [1]                           \n",
            " 37                -1  1   1181184  models.common.Conv                      [1536, 768, 1, 1]             \n",
            " 38                -1  1   7079936  models.common.Conv                      [768, 1024, 3, 2]             \n",
            " 39                -1  1    525312  models.common.Conv                      [1024, 512, 1, 1]             \n",
            " 40                -2  1    525312  models.common.Conv                      [1024, 512, 1, 1]             \n",
            " 41                -1  1   2360320  models.common.Conv                      [512, 512, 3, 1]              \n",
            " 42                -1  1   2360320  models.common.Conv                      [512, 512, 3, 1]              \n",
            " 43                -1  1   2360320  models.common.Conv                      [512, 512, 3, 1]              \n",
            " 44                -1  1   2360320  models.common.Conv                      [512, 512, 3, 1]              \n",
            " 45  [-1, -3, -5, -6]  1         0  models.common.Concat                    [1]                           \n",
            " 46                -1  1   2099200  models.common.Conv                      [2048, 1024, 1, 1]            \n",
            " 47                -1  1   7609344  models.common.SPPCSPC                   [1024, 512, 1]                \n",
            " 48                -1  1    197376  models.common.Conv                      [512, 384, 1, 1]              \n",
            " 49                -1  1         0  torch.nn.modules.upsampling.Upsample    [None, 2, 'nearest']          \n",
            " 50                37  1    295680  models.common.Conv                      [768, 384, 1, 1]              \n",
            " 51          [-1, -2]  1         0  models.common.Concat                    [1]                           \n",
            " 52                -1  1    295680  models.common.Conv                      [768, 384, 1, 1]              \n",
            " 53                -2  1    295680  models.common.Conv                      [768, 384, 1, 1]              \n",
            " 54                -1  1    663936  models.common.Conv                      [384, 192, 3, 1]              \n",
            " 55                -1  1    332160  models.common.Conv                      [192, 192, 3, 1]              \n",
            " 56                -1  1    332160  models.common.Conv                      [192, 192, 3, 1]              \n",
            " 57                -1  1    332160  models.common.Conv                      [192, 192, 3, 1]              \n",
            " 58[-1, -2, -3, -4, -5, -6]  1         0  models.common.Concat                    [1]                           \n",
            " 59                -1  1    590592  models.common.Conv                      [1536, 384, 1, 1]             \n",
            " 60                -1  1     98816  models.common.Conv                      [384, 256, 1, 1]              \n",
            " 61                -1  1         0  torch.nn.modules.upsampling.Upsample    [None, 2, 'nearest']          \n",
            " 62                28  1    131584  models.common.Conv                      [512, 256, 1, 1]              \n",
            " 63          [-1, -2]  1         0  models.common.Concat                    [1]                           \n",
            " 64                -1  1    131584  models.common.Conv                      [512, 256, 1, 1]              \n",
            " 65                -2  1    131584  models.common.Conv                      [512, 256, 1, 1]              \n",
            " 66                -1  1    295168  models.common.Conv                      [256, 128, 3, 1]              \n",
            " 67                -1  1    147712  models.common.Conv                      [128, 128, 3, 1]              \n",
            " 68                -1  1    147712  models.common.Conv                      [128, 128, 3, 1]              \n",
            " 69                -1  1    147712  models.common.Conv                      [128, 128, 3, 1]              \n",
            " 70[-1, -2, -3, -4, -5, -6]  1         0  models.common.Concat                    [1]                           \n",
            " 71                -1  1    262656  models.common.Conv                      [1024, 256, 1, 1]             \n",
            " 72                -1  1     33024  models.common.Conv                      [256, 128, 1, 1]              \n",
            " 73                -1  1         0  torch.nn.modules.upsampling.Upsample    [None, 2, 'nearest']          \n",
            " 74                19  1     33024  models.common.Conv                      [256, 128, 1, 1]              \n",
            " 75          [-1, -2]  1         0  models.common.Concat                    [1]                           \n",
            " 76                -1  1     33024  models.common.Conv                      [256, 128, 1, 1]              \n",
            " 77                -2  1     33024  models.common.Conv                      [256, 128, 1, 1]              \n",
            " 78                -1  1     73856  models.common.Conv                      [128, 64, 3, 1]               \n",
            " 79                -1  1     36992  models.common.Conv                      [64, 64, 3, 1]                \n",
            " 80                -1  1     36992  models.common.Conv                      [64, 64, 3, 1]                \n",
            " 81                -1  1     36992  models.common.Conv                      [64, 64, 3, 1]                \n",
            " 82[-1, -2, -3, -4, -5, -6]  1         0  models.common.Concat                    [1]                           \n",
            " 83                -1  1     65792  models.common.Conv                      [512, 128, 1, 1]              \n",
            " 84                -1  1    295424  models.common.Conv                      [128, 256, 3, 2]              \n",
            " 85          [-1, 71]  1         0  models.common.Concat                    [1]                           \n",
            " 86                -1  1    131584  models.common.Conv                      [512, 256, 1, 1]              \n",
            " 87                -2  1    131584  models.common.Conv                      [512, 256, 1, 1]              \n",
            " 88                -1  1    295168  models.common.Conv                      [256, 128, 3, 1]              \n",
            " 89                -1  1    147712  models.common.Conv                      [128, 128, 3, 1]              \n",
            " 90                -1  1    147712  models.common.Conv                      [128, 128, 3, 1]              \n",
            " 91                -1  1    147712  models.common.Conv                      [128, 128, 3, 1]              \n",
            " 92[-1, -2, -3, -4, -5, -6]  1         0  models.common.Concat                    [1]                           \n",
            " 93                -1  1    262656  models.common.Conv                      [1024, 256, 1, 1]             \n",
            " 94                -1  1    885504  models.common.Conv                      [256, 384, 3, 2]              \n",
            " 95          [-1, 59]  1         0  models.common.Concat                    [1]                           \n",
            " 96                -1  1    295680  models.common.Conv                      [768, 384, 1, 1]              \n",
            " 97                -2  1    295680  models.common.Conv                      [768, 384, 1, 1]              \n",
            " 98                -1  1    663936  models.common.Conv                      [384, 192, 3, 1]              \n",
            " 99                -1  1    332160  models.common.Conv                      [192, 192, 3, 1]              \n",
            "100                -1  1    332160  models.common.Conv                      [192, 192, 3, 1]              \n",
            "101                -1  1    332160  models.common.Conv                      [192, 192, 3, 1]              \n",
            "102[-1, -2, -3, -4, -5, -6]  1         0  models.common.Concat                    [1]                           \n",
            "103                -1  1    590592  models.common.Conv                      [1536, 384, 1, 1]             \n",
            "104                -1  1   1770496  models.common.Conv                      [384, 512, 3, 2]              \n",
            "105          [-1, 47]  1         0  models.common.Concat                    [1]                           \n",
            "106                -1  1    525312  models.common.Conv                      [1024, 512, 1, 1]             \n",
            "107                -2  1    525312  models.common.Conv                      [1024, 512, 1, 1]             \n",
            "108                -1  1   1180160  models.common.Conv                      [512, 256, 3, 1]              \n",
            "109                -1  1    590336  models.common.Conv                      [256, 256, 3, 1]              \n",
            "110                -1  1    590336  models.common.Conv                      [256, 256, 3, 1]              \n",
            "111                -1  1    590336  models.common.Conv                      [256, 256, 3, 1]              \n",
            "112[-1, -2, -3, -4, -5, -6]  1         0  models.common.Concat                    [1]                           \n",
            "113                -1  1   1049600  models.common.Conv                      [2048, 512, 1, 1]             \n",
            "114                83  1    295424  models.common.Conv                      [128, 256, 3, 1]              \n",
            "115                93  1   1180672  models.common.Conv                      [256, 512, 3, 1]              \n",
            "116               103  1   2655744  models.common.Conv                      [384, 768, 3, 1]              \n",
            "117               113  1   4720640  models.common.Conv                      [512, 1024, 3, 1]             \n",
            "118                83  1    369280  models.common.Conv                      [128, 320, 3, 1]              \n",
            "119                71  1   1475840  models.common.Conv                      [256, 640, 3, 1]              \n",
            "120                59  1   3319680  models.common.Conv                      [384, 960, 3, 1]              \n",
            "121                47  1   5900800  models.common.Conv                      [512, 1280, 3, 1]             \n",
            "122[114, 115, 116, 117, 118, 119, 120, 121]  1    106456  models.yolo.IAuxDetect                  [1, [[19, 27, 44, 40, 38, 94], [96, 68, 86, 152, 180, 137], [140, 301, 303, 264, 238, 542], [436, 615, 739, 380, 925, 792]], [256, 512, 768, 1024, 320, 640, 960, 1280]]\n",
            "/usr/local/lib/python3.10/dist-packages/torch/functional.py:504: UserWarning: torch.meshgrid: in an upcoming release, it will be required to pass the indexing argument. (Triggered internally at ../aten/src/ATen/native/TensorShape.cpp:3526.)\n",
            "  return _VF.meshgrid(tensors, **kwargs)  # type: ignore[attr-defined]\n",
            "Model Summary: 477 layers, 80944472 parameters, 80944472 gradients, 102.4 GFLOPS\n",
            "\n",
            "Transferred 646/668 items from yolov7-w6_training.pt\n",
            "Scaled weight_decay = 0.000515625\n",
            "Optimizer groups: 115 .bias, 115 conv.weight, 115 other\n",
            "\u001b[34m\u001b[1mtrain: \u001b[0mScanning 'content/train.cache' images and labels... 60 found, 0 missing, 0 empty, 0 corrupted: 100% 60/60 [00:00<?, ?it/s]\n",
            "\u001b[34m\u001b[1mval: \u001b[0mScanning 'content/val.cache' images and labels... 20 found, 0 missing, 0 empty, 0 corrupted: 100% 20/20 [00:00<?, ?it/s]\n",
            "\n",
            "\u001b[34m\u001b[1mautoanchor: \u001b[0mAnalyzing anchors... anchors/target = 4.30, Best Possible Recall (BPR) = 1.0000\n",
            "Image sizes 1280 train, 1280 test\n",
            "Using 2 dataloader workers\n",
            "Logging results to runs/train/Controller\n",
            "Starting training for 100 epochs...\n",
            "\n",
            "     Epoch   gpu_mem       box       obj       cls     total    labels  img_size\n",
            "      0/99     12.7G     0.061   0.05865         0    0.1197        15      1280: 100% 10/10 [00:26<00:00,  2.65s/it]\n",
            "               Class      Images      Labels           P           R      mAP@.5  mAP@.5:.95: 100% 2/2 [00:14<00:00,  7.33s/it]\n",
            "                 all          20          20      0.0892         0.2      0.0451     0.00702\n",
            "\n",
            "     Epoch   gpu_mem       box       obj       cls     total    labels  img_size\n",
            "      1/99     12.7G   0.05901   0.05348         0    0.1125        13      1280: 100% 10/10 [00:11<00:00,  1.17s/it]\n",
            "               Class      Images      Labels           P           R      mAP@.5  mAP@.5:.95: 100% 2/2 [00:04<00:00,  2.23s/it]\n",
            "                 all          20          20       0.101         0.1      0.0408     0.00551\n",
            "\n",
            "     Epoch   gpu_mem       box       obj       cls     total    labels  img_size\n",
            "      2/99     11.4G   0.06297   0.04802         0     0.111        12      1280: 100% 10/10 [00:11<00:00,  1.13s/it]\n",
            "               Class      Images      Labels           P           R      mAP@.5  mAP@.5:.95: 100% 2/2 [00:04<00:00,  2.47s/it]\n",
            "                 all          20          20      0.0583         0.2      0.0409     0.00491\n",
            "\n",
            "     Epoch   gpu_mem       box       obj       cls     total    labels  img_size\n",
            "      3/99     12.5G   0.05692   0.04442         0    0.1013        18      1280: 100% 10/10 [00:10<00:00,  1.05s/it]\n",
            "               Class      Images      Labels           P           R      mAP@.5  mAP@.5:.95: 100% 2/2 [00:05<00:00,  2.83s/it]\n",
            "                 all          20          20      0.0411         0.2      0.0331     0.00732\n",
            "\n",
            "     Epoch   gpu_mem       box       obj       cls     total    labels  img_size\n",
            "      4/99     12.5G   0.05838   0.04025         0   0.09863        11      1280: 100% 10/10 [00:11<00:00,  1.17s/it]\n",
            "               Class      Images      Labels           P           R      mAP@.5  mAP@.5:.95: 100% 2/2 [00:03<00:00,  1.98s/it]\n",
            "                 all          20          20      0.0579         0.2      0.0451      0.0114\n",
            "\n",
            "     Epoch   gpu_mem       box       obj       cls     total    labels  img_size\n",
            "      5/99     12.5G   0.05101   0.03702         0   0.08803        15      1280: 100% 10/10 [00:11<00:00,  1.12s/it]\n",
            "               Class      Images      Labels           P           R      mAP@.5  mAP@.5:.95: 100% 2/2 [00:03<00:00,  1.98s/it]\n",
            "                 all          20          20      0.0558        0.45      0.0508      0.0103\n",
            "\n",
            "     Epoch   gpu_mem       box       obj       cls     total    labels  img_size\n",
            "      6/99     12.5G   0.04491   0.03441         0   0.07932        20      1280: 100% 10/10 [00:11<00:00,  1.15s/it]\n",
            "               Class      Images      Labels           P           R      mAP@.5  mAP@.5:.95: 100% 2/2 [00:04<00:00,  2.20s/it]\n",
            "                 all          20          20       0.102         0.2      0.0992      0.0167\n",
            "\n",
            "     Epoch   gpu_mem       box       obj       cls     total    labels  img_size\n",
            "      7/99     12.5G   0.04823    0.0329         0   0.08113        19      1280: 100% 10/10 [00:11<00:00,  1.15s/it]\n",
            "               Class      Images      Labels           P           R      mAP@.5  mAP@.5:.95: 100% 2/2 [00:04<00:00,  2.39s/it]\n",
            "                 all          20          20       0.158         0.2       0.134      0.0233\n",
            "\n",
            "     Epoch   gpu_mem       box       obj       cls     total    labels  img_size\n",
            "      8/99     12.5G   0.05006   0.03145         0   0.08151        16      1280: 100% 10/10 [00:11<00:00,  1.11s/it]\n",
            "               Class      Images      Labels           P           R      mAP@.5  mAP@.5:.95: 100% 2/2 [00:03<00:00,  1.64s/it]\n",
            "                 all          20          20       0.172        0.55       0.227      0.0546\n",
            "\n",
            "     Epoch   gpu_mem       box       obj       cls     total    labels  img_size\n",
            "      9/99     12.5G   0.04788   0.02922         0   0.07709        16      1280: 100% 10/10 [00:11<00:00,  1.17s/it]\n",
            "               Class      Images      Labels           P           R      mAP@.5  mAP@.5:.95: 100% 2/2 [00:03<00:00,  1.79s/it]\n",
            "                 all          20          20       0.259       0.594       0.242      0.0551\n",
            "\n",
            "     Epoch   gpu_mem       box       obj       cls     total    labels  img_size\n",
            "     10/99     12.5G    0.0519   0.02812         0   0.08002        15      1280: 100% 10/10 [00:11<00:00,  1.14s/it]\n",
            "               Class      Images      Labels           P           R      mAP@.5  mAP@.5:.95: 100% 2/2 [00:03<00:00,  1.52s/it]\n",
            "                 all          20          20       0.278        0.55       0.259      0.0751\n",
            "\n",
            "     Epoch   gpu_mem       box       obj       cls     total    labels  img_size\n",
            "     11/99     12.5G   0.04299   0.02663         0   0.06962        20      1280: 100% 10/10 [00:11<00:00,  1.18s/it]\n",
            "               Class      Images      Labels           P           R      mAP@.5  mAP@.5:.95: 100% 2/2 [00:02<00:00,  1.10s/it]\n",
            "                 all          20          20       0.439         0.4       0.344      0.0928\n",
            "\n",
            "     Epoch   gpu_mem       box       obj       cls     total    labels  img_size\n",
            "     12/99     12.5G   0.04068   0.02443         0   0.06511        15      1280: 100% 10/10 [00:11<00:00,  1.15s/it]\n",
            "               Class      Images      Labels           P           R      mAP@.5  mAP@.5:.95: 100% 2/2 [00:02<00:00,  1.11s/it]\n",
            "                 all          20          20       0.434       0.536       0.418        0.13\n",
            "\n",
            "     Epoch   gpu_mem       box       obj       cls     total    labels  img_size\n",
            "     13/99     12.5G   0.04294   0.02392         0   0.06686         9      1280: 100% 10/10 [00:12<00:00,  1.25s/it]\n",
            "               Class      Images      Labels           P           R      mAP@.5  mAP@.5:.95: 100% 2/2 [00:01<00:00,  1.13it/s]\n",
            "                 all          20          20       0.395         0.6       0.474       0.121\n",
            "\n",
            "     Epoch   gpu_mem       box       obj       cls     total    labels  img_size\n",
            "     14/99     12.5G   0.03882   0.02364         0   0.06246        14      1280: 100% 10/10 [00:11<00:00,  1.12s/it]\n",
            "               Class      Images      Labels           P           R      mAP@.5  mAP@.5:.95: 100% 2/2 [00:01<00:00,  1.22it/s]\n",
            "                 all          20          20       0.704        0.65       0.648       0.139\n",
            "\n",
            "     Epoch   gpu_mem       box       obj       cls     total    labels  img_size\n",
            "     15/99     11.5G   0.03527   0.02111         0   0.05638         8      1280: 100% 10/10 [00:11<00:00,  1.11s/it]\n",
            "               Class      Images      Labels           P           R      mAP@.5  mAP@.5:.95: 100% 2/2 [00:01<00:00,  1.33it/s]\n",
            "                 all          20          20       0.423       0.698       0.523       0.169\n",
            "\n",
            "     Epoch   gpu_mem       box       obj       cls     total    labels  img_size\n",
            "     16/99     11.5G   0.04081   0.02181         0   0.06262        19      1280: 100% 10/10 [00:10<00:00,  1.05s/it]\n",
            "               Class      Images      Labels           P           R      mAP@.5  mAP@.5:.95: 100% 2/2 [00:01<00:00,  1.02it/s]\n",
            "                 all          20          20       0.438         0.7       0.539       0.198\n",
            "\n",
            "     Epoch   gpu_mem       box       obj       cls     total    labels  img_size\n",
            "     17/99     11.5G    0.0477   0.02102         0   0.06872        10      1280: 100% 10/10 [00:10<00:00,  1.08s/it]\n",
            "               Class      Images      Labels           P           R      mAP@.5  mAP@.5:.95: 100% 2/2 [00:01<00:00,  1.32it/s]\n",
            "                 all          20          20       0.462        0.75       0.568       0.207\n",
            "\n",
            "     Epoch   gpu_mem       box       obj       cls     total    labels  img_size\n",
            "     18/99     13.2G   0.03507   0.01978         0   0.05486        16      1280: 100% 10/10 [00:10<00:00,  1.05s/it]\n",
            "               Class      Images      Labels           P           R      mAP@.5  mAP@.5:.95: 100% 2/2 [00:01<00:00,  1.01it/s]\n",
            "                 all          20          20       0.634       0.779       0.767       0.242\n",
            "\n",
            "     Epoch   gpu_mem       box       obj       cls     total    labels  img_size\n",
            "     19/99     13.2G   0.04348   0.01888         0   0.06236        12      1280: 100% 10/10 [00:11<00:00,  1.10s/it]\n",
            "               Class      Images      Labels           P           R      mAP@.5  mAP@.5:.95: 100% 2/2 [00:01<00:00,  1.50it/s]\n",
            "                 all          20          20       0.472         0.9       0.672       0.214\n",
            "\n",
            "     Epoch   gpu_mem       box       obj       cls     total    labels  img_size\n",
            "     20/99     13.2G   0.04374   0.01999         0   0.06373        20      1280: 100% 10/10 [00:11<00:00,  1.13s/it]\n",
            "               Class      Images      Labels           P           R      mAP@.5  mAP@.5:.95: 100% 2/2 [00:01<00:00,  1.66it/s]\n",
            "                 all          20          20       0.594        0.75       0.666        0.18\n",
            "\n",
            "     Epoch   gpu_mem       box       obj       cls     total    labels  img_size\n",
            "     21/99     13.2G   0.05127   0.01799         0   0.06926        11      1280: 100% 10/10 [00:12<00:00,  1.26s/it]\n",
            "               Class      Images      Labels           P           R      mAP@.5  mAP@.5:.95: 100% 2/2 [00:01<00:00,  1.57it/s]\n",
            "                 all          20          20       0.596        0.75       0.673       0.278\n",
            "\n",
            "     Epoch   gpu_mem       box       obj       cls     total    labels  img_size\n",
            "     22/99     13.2G   0.03474   0.01905         0   0.05379        17      1280: 100% 10/10 [00:10<00:00,  1.10s/it]\n",
            "               Class      Images      Labels           P           R      mAP@.5  mAP@.5:.95: 100% 2/2 [00:01<00:00,  1.30it/s]\n",
            "                 all          20          20       0.632         0.7       0.681       0.219\n",
            "\n",
            "     Epoch   gpu_mem       box       obj       cls     total    labels  img_size\n",
            "     23/99     13.2G   0.03547   0.01679         0   0.05226        12      1280: 100% 10/10 [00:11<00:00,  1.11s/it]\n",
            "               Class      Images      Labels           P           R      mAP@.5  mAP@.5:.95: 100% 2/2 [00:01<00:00,  1.53it/s]\n",
            "                 all          20          20       0.677       0.839       0.815        0.24\n",
            "\n",
            "     Epoch   gpu_mem       box       obj       cls     total    labels  img_size\n",
            "     24/99     13.2G   0.03477   0.01856         0   0.05333        17      1280: 100% 10/10 [00:11<00:00,  1.15s/it]\n",
            "               Class      Images      Labels           P           R      mAP@.5  mAP@.5:.95: 100% 2/2 [00:01<00:00,  1.51it/s]\n",
            "                 all          20          20       0.695         0.8        0.65       0.301\n",
            "\n",
            "     Epoch   gpu_mem       box       obj       cls     total    labels  img_size\n",
            "     25/99     13.2G   0.03295   0.01646         0   0.04942        13      1280: 100% 10/10 [00:10<00:00,  1.04s/it]\n",
            "               Class      Images      Labels           P           R      mAP@.5  mAP@.5:.95: 100% 2/2 [00:01<00:00,  1.56it/s]\n",
            "                 all          20          20        0.81        0.65       0.743       0.253\n",
            "\n",
            "     Epoch   gpu_mem       box       obj       cls     total    labels  img_size\n",
            "     26/99     13.2G   0.03091   0.01582         0   0.04673        10      1280: 100% 10/10 [00:11<00:00,  1.15s/it]\n",
            "               Class      Images      Labels           P           R      mAP@.5  mAP@.5:.95: 100% 2/2 [00:01<00:00,  1.54it/s]\n",
            "                 all          20          20       0.757        0.65       0.741       0.228\n",
            "\n",
            "     Epoch   gpu_mem       box       obj       cls     total    labels  img_size\n",
            "     27/99     13.2G   0.03818   0.01419         0   0.05238        13      1280: 100% 10/10 [00:11<00:00,  1.11s/it]\n",
            "               Class      Images      Labels           P           R      mAP@.5  mAP@.5:.95: 100% 2/2 [00:01<00:00,  1.49it/s]\n",
            "                 all          20          20        0.88        0.75       0.748       0.217\n",
            "\n",
            "     Epoch   gpu_mem       box       obj       cls     total    labels  img_size\n",
            "     28/99     13.2G   0.03941   0.01584         0   0.05525        22      1280: 100% 10/10 [00:10<00:00,  1.03s/it]\n",
            "               Class      Images      Labels           P           R      mAP@.5  mAP@.5:.95: 100% 2/2 [00:01<00:00,  1.59it/s]\n",
            "                 all          20          20       0.777         0.7       0.683       0.272\n",
            "\n",
            "     Epoch   gpu_mem       box       obj       cls     total    labels  img_size\n",
            "     29/99     13.2G   0.03341   0.01495         0   0.04836        10      1280: 100% 10/10 [00:11<00:00,  1.12s/it]\n",
            "               Class      Images      Labels           P           R      mAP@.5  mAP@.5:.95: 100% 2/2 [00:01<00:00,  1.66it/s]\n",
            "                 all          20          20       0.882       0.749       0.785       0.319\n",
            "\n",
            "     Epoch   gpu_mem       box       obj       cls     total    labels  img_size\n",
            "     30/99     13.2G   0.04075   0.01492         0   0.05566        13      1280: 100% 10/10 [00:11<00:00,  1.15s/it]\n",
            "               Class      Images      Labels           P           R      mAP@.5  mAP@.5:.95: 100% 2/2 [00:01<00:00,  1.45it/s]\n",
            "                 all          20          20       0.894       0.847       0.877        0.32\n",
            "\n",
            "     Epoch   gpu_mem       box       obj       cls     total    labels  img_size\n",
            "     31/99     13.2G   0.03057   0.01516         0   0.04573        17      1280: 100% 10/10 [00:10<00:00,  1.07s/it]\n",
            "               Class      Images      Labels           P           R      mAP@.5  mAP@.5:.95: 100% 2/2 [00:01<00:00,  1.59it/s]\n",
            "                 all          20          20       0.944         0.9       0.945       0.392\n",
            "\n",
            "     Epoch   gpu_mem       box       obj       cls     total    labels  img_size\n",
            "     32/99     13.2G   0.03347   0.01469         0   0.04816        15      1280: 100% 10/10 [00:10<00:00,  1.01s/it]\n",
            "               Class      Images      Labels           P           R      mAP@.5  mAP@.5:.95: 100% 2/2 [00:01<00:00,  1.31it/s]\n",
            "                 all          20          20       0.894        0.85       0.867       0.315\n",
            "\n",
            "     Epoch   gpu_mem       box       obj       cls     total    labels  img_size\n",
            "     33/99     13.2G   0.03034   0.01483         0   0.04517        14      1280: 100% 10/10 [00:10<00:00,  1.07s/it]\n",
            "               Class      Images      Labels           P           R      mAP@.5  mAP@.5:.95: 100% 2/2 [00:01<00:00,  1.67it/s]\n",
            "                 all          20          20       0.895       0.849       0.909       0.295\n",
            "\n",
            "     Epoch   gpu_mem       box       obj       cls     total    labels  img_size\n",
            "     34/99     13.2G   0.03825   0.01505         0    0.0533        16      1280: 100% 10/10 [00:10<00:00,  1.09s/it]\n",
            "               Class      Images      Labels           P           R      mAP@.5  mAP@.5:.95: 100% 2/2 [00:01<00:00,  1.70it/s]\n",
            "                 all          20          20       0.905        0.95       0.935       0.349\n",
            "\n",
            "     Epoch   gpu_mem       box       obj       cls     total    labels  img_size\n",
            "     35/99     13.2G   0.02927   0.01479         0   0.04406        13      1280: 100% 10/10 [00:10<00:00,  1.06s/it]\n",
            "               Class      Images      Labels           P           R      mAP@.5  mAP@.5:.95: 100% 2/2 [00:01<00:00,  1.32it/s]\n",
            "                 all          20          20       0.749       0.747       0.725       0.304\n",
            "\n",
            "     Epoch   gpu_mem       box       obj       cls     total    labels  img_size\n",
            "     36/99     13.2G    0.0476    0.0145         0    0.0621        16      1280: 100% 10/10 [00:11<00:00,  1.14s/it]\n",
            "               Class      Images      Labels           P           R      mAP@.5  mAP@.5:.95: 100% 2/2 [00:01<00:00,  1.62it/s]\n",
            "                 all          20          20       0.892        0.85        0.93       0.335\n",
            "\n",
            "     Epoch   gpu_mem       box       obj       cls     total    labels  img_size\n",
            "     37/99     13.2G   0.03709    0.0139         0   0.05099        16      1280: 100% 10/10 [00:10<00:00,  1.05s/it]\n",
            "               Class      Images      Labels           P           R      mAP@.5  mAP@.5:.95: 100% 2/2 [00:01<00:00,  1.33it/s]\n",
            "                 all          20          20       0.592         0.8       0.597       0.256\n",
            "\n",
            "     Epoch   gpu_mem       box       obj       cls     total    labels  img_size\n",
            "     38/99     13.2G   0.03188    0.0147         0   0.04658        17      1280: 100% 10/10 [00:10<00:00,  1.09s/it]\n",
            "               Class      Images      Labels           P           R      mAP@.5  mAP@.5:.95: 100% 2/2 [00:01<00:00,  1.58it/s]\n",
            "                 all          20          20         0.8         0.8       0.832       0.344\n",
            "\n",
            "     Epoch   gpu_mem       box       obj       cls     total    labels  img_size\n",
            "     39/99     13.2G   0.04064   0.01456         0    0.0552        15      1280: 100% 10/10 [00:10<00:00,  1.04s/it]\n",
            "               Class      Images      Labels           P           R      mAP@.5  mAP@.5:.95: 100% 2/2 [00:01<00:00,  1.41it/s]\n",
            "                 all          20          20       0.853         0.9       0.849       0.288\n",
            "\n",
            "     Epoch   gpu_mem       box       obj       cls     total    labels  img_size\n",
            "     40/99     13.2G   0.02805   0.01298         0   0.04102        12      1280: 100% 10/10 [00:10<00:00,  1.04s/it]\n",
            "               Class      Images      Labels           P           R      mAP@.5  mAP@.5:.95: 100% 2/2 [00:01<00:00,  1.68it/s]\n",
            "                 all          20          20       0.783         0.9       0.766         0.3\n",
            "\n",
            "     Epoch   gpu_mem       box       obj       cls     total    labels  img_size\n",
            "     41/99     13.2G   0.04685   0.01411         0   0.06096        23      1280: 100% 10/10 [00:10<00:00,  1.07s/it]\n",
            "               Class      Images      Labels           P           R      mAP@.5  mAP@.5:.95: 100% 2/2 [00:01<00:00,  1.73it/s]\n",
            "                 all          20          20       0.893        0.85       0.841       0.351\n",
            "\n",
            "     Epoch   gpu_mem       box       obj       cls     total    labels  img_size\n",
            "     42/99     13.2G   0.03152   0.01334         0   0.04486        18      1280: 100% 10/10 [00:10<00:00,  1.08s/it]\n",
            "               Class      Images      Labels           P           R      mAP@.5  mAP@.5:.95: 100% 2/2 [00:01<00:00,  1.61it/s]\n",
            "                 all          20          20       0.749         0.9       0.734       0.243\n",
            "\n",
            "     Epoch   gpu_mem       box       obj       cls     total    labels  img_size\n",
            "     43/99     13.2G   0.03901   0.01424         0   0.05325        13      1280: 100% 10/10 [00:10<00:00,  1.00s/it]\n",
            "               Class      Images      Labels           P           R      mAP@.5  mAP@.5:.95: 100% 2/2 [00:01<00:00,  1.30it/s]\n",
            "                 all          20          20        0.72       0.899       0.735       0.276\n",
            "\n",
            "     Epoch   gpu_mem       box       obj       cls     total    labels  img_size\n",
            "     44/99     13.2G   0.03197   0.01473         0    0.0467        16      1280: 100% 10/10 [00:10<00:00,  1.08s/it]\n",
            "               Class      Images      Labels           P           R      mAP@.5  mAP@.5:.95: 100% 2/2 [00:01<00:00,  1.76it/s]\n",
            "                 all          20          20       0.875       0.698        0.75       0.295\n",
            "\n",
            "     Epoch   gpu_mem       box       obj       cls     total    labels  img_size\n",
            "     45/99     13.2G   0.02914   0.01358         0   0.04272        11      1280: 100% 10/10 [00:10<00:00,  1.05s/it]\n",
            "               Class      Images      Labels           P           R      mAP@.5  mAP@.5:.95: 100% 2/2 [00:01<00:00,  1.67it/s]\n",
            "                 all          20          20       0.894        0.85       0.814        0.29\n",
            "\n",
            "     Epoch   gpu_mem       box       obj       cls     total    labels  img_size\n",
            "     46/99     13.2G   0.02834   0.01223         0   0.04057         9      1280: 100% 10/10 [00:10<00:00,  1.07s/it]\n",
            "               Class      Images      Labels           P           R      mAP@.5  mAP@.5:.95: 100% 2/2 [00:01<00:00,  1.61it/s]\n",
            "                 all          20          20       0.775        0.75       0.709       0.258\n",
            "\n",
            "     Epoch   gpu_mem       box       obj       cls     total    labels  img_size\n",
            "     47/99     13.2G   0.03361   0.01471         0   0.04833        12      1280: 100% 10/10 [00:10<00:00,  1.08s/it]\n",
            "               Class      Images      Labels           P           R      mAP@.5  mAP@.5:.95: 100% 2/2 [00:01<00:00,  1.74it/s]\n",
            "                 all          20          20       0.841         0.8       0.751       0.231\n",
            "\n",
            "     Epoch   gpu_mem       box       obj       cls     total    labels  img_size\n",
            "     48/99     13.2G   0.03377   0.01339         0   0.04716        16      1280: 100% 10/10 [00:10<00:00,  1.08s/it]\n",
            "               Class      Images      Labels           P           R      mAP@.5  mAP@.5:.95: 100% 2/2 [00:01<00:00,  1.74it/s]\n",
            "                 all          20          20       0.875       0.698       0.785       0.328\n",
            "\n",
            "     Epoch   gpu_mem       box       obj       cls     total    labels  img_size\n",
            "     49/99     13.2G   0.03963   0.01352         0   0.05316        16      1280: 100% 10/10 [00:10<00:00,  1.03s/it]\n",
            "               Class      Images      Labels           P           R      mAP@.5  mAP@.5:.95: 100% 2/2 [00:01<00:00,  1.39it/s]\n",
            "                 all          20          20        0.87         0.7       0.783       0.321\n",
            "\n",
            "     Epoch   gpu_mem       box       obj       cls     total    labels  img_size\n",
            "     50/99     13.2G   0.02892   0.01292         0   0.04184        13      1280: 100% 10/10 [00:10<00:00,  1.09s/it]\n",
            "               Class      Images      Labels           P           R      mAP@.5  mAP@.5:.95: 100% 2/2 [00:01<00:00,  1.61it/s]\n",
            "                 all          20          20       0.661         0.8       0.784       0.335\n",
            "\n",
            "     Epoch   gpu_mem       box       obj       cls     total    labels  img_size\n",
            "     51/99     13.2G   0.03139   0.01379         0   0.04518        12      1280: 100% 10/10 [00:10<00:00,  1.07s/it]\n",
            "               Class      Images      Labels           P           R      mAP@.5  mAP@.5:.95: 100% 2/2 [00:01<00:00,  1.34it/s]\n",
            "                 all          20          20       0.707       0.843       0.811       0.386\n",
            "\n",
            "     Epoch   gpu_mem       box       obj       cls     total    labels  img_size\n",
            "     52/99     13.2G   0.03243   0.01271         0   0.04514        15      1280: 100% 10/10 [00:10<00:00,  1.10s/it]\n",
            "               Class      Images      Labels           P           R      mAP@.5  mAP@.5:.95: 100% 2/2 [00:01<00:00,  1.54it/s]\n",
            "                 all          20          20       0.708        0.75         0.7       0.255\n",
            "\n",
            "     Epoch   gpu_mem       box       obj       cls     total    labels  img_size\n",
            "     53/99     13.2G   0.03488   0.01227         0   0.04715        16      1280: 100% 10/10 [00:11<00:00,  1.12s/it]\n",
            "               Class      Images      Labels           P           R      mAP@.5  mAP@.5:.95: 100% 2/2 [00:01<00:00,  1.79it/s]\n",
            "                 all          20          20       0.799       0.598        0.71       0.212\n",
            "\n",
            "     Epoch   gpu_mem       box       obj       cls     total    labels  img_size\n",
            "     54/99     13.2G   0.03579   0.01412         0    0.0499        13      1280: 100% 10/10 [00:10<00:00,  1.06s/it]\n",
            "               Class      Images      Labels           P           R      mAP@.5  mAP@.5:.95: 100% 2/2 [00:01<00:00,  1.62it/s]\n",
            "                 all          20          20       0.834         0.6       0.723       0.292\n",
            "\n",
            "     Epoch   gpu_mem       box       obj       cls     total    labels  img_size\n",
            "     55/99     13.2G   0.02682   0.01455         0   0.04138        13      1280: 100% 10/10 [00:10<00:00,  1.10s/it]\n",
            "               Class      Images      Labels           P           R      mAP@.5  mAP@.5:.95: 100% 2/2 [00:01<00:00,  1.74it/s]\n",
            "                 all          20          20       0.789        0.75       0.814       0.258\n",
            "\n",
            "     Epoch   gpu_mem       box       obj       cls     total    labels  img_size\n",
            "     56/99     13.2G   0.03011    0.0124         0   0.04251        14      1280: 100% 10/10 [00:10<00:00,  1.03s/it]\n",
            "               Class      Images      Labels           P           R      mAP@.5  mAP@.5:.95: 100% 2/2 [00:01<00:00,  1.40it/s]\n",
            "                 all          20          20         0.8       0.599       0.673       0.302\n",
            "\n",
            "     Epoch   gpu_mem       box       obj       cls     total    labels  img_size\n",
            "     57/99     13.2G   0.03168    0.0128         0   0.04448        14      1280: 100% 10/10 [00:11<00:00,  1.12s/it]\n",
            "               Class      Images      Labels           P           R      mAP@.5  mAP@.5:.95: 100% 2/2 [00:01<00:00,  1.62it/s]\n",
            "                 all          20          20         0.8         0.6       0.652       0.276\n",
            "\n",
            "     Epoch   gpu_mem       box       obj       cls     total    labels  img_size\n",
            "     58/99     13.2G   0.03009   0.01272         0   0.04281        15      1280: 100% 10/10 [00:10<00:00,  1.05s/it]\n",
            "               Class      Images      Labels           P           R      mAP@.5  mAP@.5:.95: 100% 2/2 [00:01<00:00,  1.83it/s]\n",
            "                 all          20          20       0.873         0.7       0.815       0.323\n",
            "\n",
            "     Epoch   gpu_mem       box       obj       cls     total    labels  img_size\n",
            "     59/99     13.2G   0.03317   0.01367         0   0.04684        12      1280: 100% 10/10 [00:10<00:00,  1.04s/it]\n",
            "               Class      Images      Labels           P           R      mAP@.5  mAP@.5:.95: 100% 2/2 [00:01<00:00,  1.65it/s]\n",
            "                 all          20          20       0.799         0.8       0.837        0.33\n",
            "\n",
            "     Epoch   gpu_mem       box       obj       cls     total    labels  img_size\n",
            "     60/99     13.2G   0.03459   0.01226         0   0.04685         9      1280: 100% 10/10 [00:10<00:00,  1.04s/it]\n",
            "               Class      Images      Labels           P           R      mAP@.5  mAP@.5:.95: 100% 2/2 [00:01<00:00,  1.69it/s]\n",
            "                 all          20          20       0.888         0.8       0.923       0.378\n",
            "\n",
            "     Epoch   gpu_mem       box       obj       cls     total    labels  img_size\n",
            "     61/99     13.2G   0.02716   0.01233         0    0.0395        19      1280: 100% 10/10 [00:10<00:00,  1.07s/it]\n",
            "               Class      Images      Labels           P           R      mAP@.5  mAP@.5:.95: 100% 2/2 [00:01<00:00,  1.73it/s]\n",
            "                 all          20          20       0.996         0.7       0.833       0.314\n",
            "\n",
            "     Epoch   gpu_mem       box       obj       cls     total    labels  img_size\n",
            "     62/99     13.2G   0.02409   0.01284         0   0.03693        11      1280: 100% 10/10 [00:10<00:00,  1.01s/it]\n",
            "               Class      Images      Labels           P           R      mAP@.5  mAP@.5:.95: 100% 2/2 [00:01<00:00,  1.39it/s]\n",
            "                 all          20          20       0.998         0.7        0.85       0.316\n",
            "\n",
            "     Epoch   gpu_mem       box       obj       cls     total    labels  img_size\n",
            "     63/99     13.2G   0.02242   0.01304         0   0.03545        15      1280: 100% 10/10 [00:10<00:00,  1.05s/it]\n",
            "               Class      Images      Labels           P           R      mAP@.5  mAP@.5:.95: 100% 2/2 [00:01<00:00,  1.68it/s]\n",
            "                 all          20          20       0.782         0.9       0.872        0.28\n",
            "\n",
            "     Epoch   gpu_mem       box       obj       cls     total    labels  img_size\n",
            "     64/99     13.2G   0.02254    0.0114         0   0.03394        13      1280: 100% 10/10 [00:11<00:00,  1.18s/it]\n",
            "               Class      Images      Labels           P           R      mAP@.5  mAP@.5:.95: 100% 2/2 [00:01<00:00,  1.67it/s]\n",
            "                 all          20          20       0.893        0.85       0.884       0.308\n",
            "\n",
            "     Epoch   gpu_mem       box       obj       cls     total    labels  img_size\n",
            "     65/99     13.2G   0.02442   0.01139         0   0.03582        14      1280: 100% 10/10 [00:10<00:00,  1.09s/it]\n",
            "               Class      Images      Labels           P           R      mAP@.5  mAP@.5:.95: 100% 2/2 [00:01<00:00,  1.63it/s]\n",
            "                 all          20          20         0.8           1       0.958       0.324\n",
            "\n",
            "     Epoch   gpu_mem       box       obj       cls     total    labels  img_size\n",
            "     66/99     13.2G   0.02894   0.01242         0   0.04136        15      1280: 100% 10/10 [00:09<00:00,  1.01it/s]\n",
            "               Class      Images      Labels           P           R      mAP@.5  mAP@.5:.95: 100% 2/2 [00:01<00:00,  1.40it/s]\n",
            "                 all          20          20       0.999        0.85       0.971       0.383\n",
            "\n",
            "     Epoch   gpu_mem       box       obj       cls     total    labels  img_size\n",
            "     67/99     13.2G   0.03656   0.01219         0   0.04875        16      1280: 100% 10/10 [00:10<00:00,  1.06s/it]\n",
            "               Class      Images      Labels           P           R      mAP@.5  mAP@.5:.95: 100% 2/2 [00:01<00:00,  1.71it/s]\n",
            "                 all          20          20       0.833           1       0.968       0.377\n",
            "\n",
            "     Epoch   gpu_mem       box       obj       cls     total    labels  img_size\n",
            "     68/99     13.2G   0.03318   0.01289         0   0.04608        12      1280: 100% 10/10 [00:11<00:00,  1.17s/it]\n",
            "               Class      Images      Labels           P           R      mAP@.5  mAP@.5:.95: 100% 2/2 [00:01<00:00,  1.78it/s]\n",
            "                 all          20          20       0.741           1       0.867       0.384\n",
            "\n",
            "     Epoch   gpu_mem       box       obj       cls     total    labels  img_size\n",
            "     69/99     13.2G   0.03208   0.01196         0   0.04403        13      1280: 100% 10/10 [00:10<00:00,  1.03s/it]\n",
            "               Class      Images      Labels           P           R      mAP@.5  mAP@.5:.95: 100% 2/2 [00:01<00:00,  1.45it/s]\n",
            "                 all          20          20       0.898         0.9        0.94       0.296\n",
            "\n",
            "     Epoch   gpu_mem       box       obj       cls     total    labels  img_size\n",
            "     70/99     13.2G   0.03563   0.01183         0   0.04747        19      1280: 100% 10/10 [00:10<00:00,  1.10s/it]\n",
            "               Class      Images      Labels           P           R      mAP@.5  mAP@.5:.95: 100% 2/2 [00:01<00:00,  1.75it/s]\n",
            "                 all          20          20       0.905       0.948       0.967       0.379\n",
            "\n",
            "     Epoch   gpu_mem       box       obj       cls     total    labels  img_size\n",
            "     71/99     13.2G   0.02665    0.0126         0   0.03925        12      1280: 100% 10/10 [00:09<00:00,  1.00it/s]\n",
            "               Class      Images      Labels           P           R      mAP@.5  mAP@.5:.95: 100% 2/2 [00:01<00:00,  1.39it/s]\n",
            "                 all          20          20        0.95       0.949       0.983       0.352\n",
            "\n",
            "     Epoch   gpu_mem       box       obj       cls     total    labels  img_size\n",
            "     72/99     13.2G   0.02539   0.01331         0    0.0387        22      1280: 100% 10/10 [00:10<00:00,  1.06s/it]\n",
            "               Class      Images      Labels           P           R      mAP@.5  mAP@.5:.95: 100% 2/2 [00:01<00:00,  1.67it/s]\n",
            "                 all          20          20       0.903        0.95       0.915       0.283\n",
            "\n",
            "     Epoch   gpu_mem       box       obj       cls     total    labels  img_size\n",
            "     73/99     13.2G   0.04163   0.01212         0   0.05375        18      1280: 100% 10/10 [00:10<00:00,  1.08s/it]\n",
            "               Class      Images      Labels           P           R      mAP@.5  mAP@.5:.95: 100% 2/2 [00:01<00:00,  1.37it/s]\n",
            "                 all          20          20       0.999        0.85       0.939       0.323\n",
            "\n",
            "     Epoch   gpu_mem       box       obj       cls     total    labels  img_size\n",
            "     74/99     13.2G   0.02896    0.0111         0   0.04006        13      1280: 100% 10/10 [00:10<00:00,  1.06s/it]\n",
            "               Class      Images      Labels           P           R      mAP@.5  mAP@.5:.95: 100% 2/2 [00:01<00:00,  1.69it/s]\n",
            "                 all          20          20       0.998         0.8       0.929       0.315\n",
            "\n",
            "     Epoch   gpu_mem       box       obj       cls     total    labels  img_size\n",
            "     75/99     13.2G   0.02064   0.01192         0   0.03256        11      1280: 100% 10/10 [00:11<00:00,  1.12s/it]\n",
            "               Class      Images      Labels           P           R      mAP@.5  mAP@.5:.95: 100% 2/2 [00:01<00:00,  1.68it/s]\n",
            "                 all          20          20       0.945         0.9       0.951       0.279\n",
            "\n",
            "     Epoch   gpu_mem       box       obj       cls     total    labels  img_size\n",
            "     76/99     13.2G   0.02529   0.01207         0   0.03736        14      1280: 100% 10/10 [00:10<00:00,  1.09s/it]\n",
            "               Class      Images      Labels           P           R      mAP@.5  mAP@.5:.95: 100% 2/2 [00:01<00:00,  1.73it/s]\n",
            "                 all          20          20       0.841         0.8        0.87       0.227\n",
            "\n",
            "     Epoch   gpu_mem       box       obj       cls     total    labels  img_size\n",
            "     77/99     13.2G   0.02192   0.01171         0   0.03363        10      1280: 100% 10/10 [00:10<00:00,  1.08s/it]\n",
            "               Class      Images      Labels           P           R      mAP@.5  mAP@.5:.95: 100% 2/2 [00:01<00:00,  1.64it/s]\n",
            "                 all          20          20       0.841         0.8        0.87       0.227\n",
            "\n",
            "     Epoch   gpu_mem       box       obj       cls     total    labels  img_size\n",
            "     78/99     13.2G   0.02577   0.01258         0   0.03835        17      1280: 100% 10/10 [00:10<00:00,  1.02s/it]\n",
            "               Class      Images      Labels           P           R      mAP@.5  mAP@.5:.95: 100% 2/2 [00:01<00:00,  1.39it/s]\n",
            "                 all          20          20         0.9         0.9       0.884       0.224\n",
            "\n",
            "     Epoch   gpu_mem       box       obj       cls     total    labels  img_size\n",
            "     79/99     13.2G   0.01979   0.01239         0   0.03218        12      1280: 100% 10/10 [00:10<00:00,  1.07s/it]\n",
            "               Class      Images      Labels           P           R      mAP@.5  mAP@.5:.95: 100% 2/2 [00:01<00:00,  1.69it/s]\n",
            "                 all          20          20       0.856         0.9       0.881       0.249\n",
            "\n",
            "     Epoch   gpu_mem       box       obj       cls     total    labels  img_size\n",
            "     80/99     13.2G   0.02718   0.01283         0   0.04001        19      1280: 100% 10/10 [00:10<00:00,  1.07s/it]\n",
            "               Class      Images      Labels           P           R      mAP@.5  mAP@.5:.95: 100% 2/2 [00:01<00:00,  1.69it/s]\n",
            "                 all          20          20       0.903        0.95       0.931       0.296\n",
            "\n",
            "     Epoch   gpu_mem       box       obj       cls     total    labels  img_size\n",
            "     81/99     13.2G   0.02179   0.01049         0   0.03228        18      1280: 100% 10/10 [00:10<00:00,  1.10s/it]\n",
            "               Class      Images      Labels           P           R      mAP@.5  mAP@.5:.95: 100% 2/2 [00:01<00:00,  1.77it/s]\n",
            "                 all          20          20         0.9         0.9       0.898       0.271\n",
            "\n",
            "     Epoch   gpu_mem       box       obj       cls     total    labels  img_size\n",
            "     82/99     13.2G     0.031   0.01183         0   0.04283        18      1280: 100% 10/10 [00:10<00:00,  1.01s/it]\n",
            "               Class      Images      Labels           P           R      mAP@.5  mAP@.5:.95: 100% 2/2 [00:01<00:00,  1.41it/s]\n",
            "                 all          20          20         0.9       0.898       0.912       0.349\n",
            "\n",
            "     Epoch   gpu_mem       box       obj       cls     total    labels  img_size\n",
            "     83/99     13.2G   0.02584   0.01237         0   0.03821        15      1280: 100% 10/10 [00:10<00:00,  1.08s/it]\n",
            "               Class      Images      Labels           P           R      mAP@.5  mAP@.5:.95: 100% 2/2 [00:01<00:00,  1.70it/s]\n",
            "                 all          20          20       0.816         0.9       0.903       0.331\n",
            "\n",
            "     Epoch   gpu_mem       box       obj       cls     total    labels  img_size\n",
            "     84/99     13.2G    0.0204   0.01215         0   0.03255        16      1280: 100% 10/10 [00:10<00:00,  1.05s/it]\n",
            "               Class      Images      Labels           P           R      mAP@.5  mAP@.5:.95: 100% 2/2 [00:01<00:00,  1.73it/s]\n",
            "                 all          20          20       0.905        0.95       0.949       0.319\n",
            "\n",
            "     Epoch   gpu_mem       box       obj       cls     total    labels  img_size\n",
            "     85/99     13.2G   0.02491   0.01224         0   0.03715        14      1280: 100% 10/10 [00:10<00:00,  1.08s/it]\n",
            "               Class      Images      Labels           P           R      mAP@.5  mAP@.5:.95: 100% 2/2 [00:01<00:00,  1.72it/s]\n",
            "                 all          20          20       0.998        0.95        0.95       0.274\n",
            "\n",
            "     Epoch   gpu_mem       box       obj       cls     total    labels  img_size\n",
            "     86/99     13.2G   0.02087    0.0117         0   0.03257        14      1280: 100% 10/10 [00:09<00:00,  1.00it/s]\n",
            "               Class      Images      Labels           P           R      mAP@.5  mAP@.5:.95: 100% 2/2 [00:01<00:00,  1.40it/s]\n",
            "                 all          20          20       0.895       0.849       0.859       0.256\n",
            "\n",
            "     Epoch   gpu_mem       box       obj       cls     total    labels  img_size\n",
            "     87/99     13.2G   0.03049   0.01198         0   0.04247        16      1280: 100% 10/10 [00:09<00:00,  1.02it/s]\n",
            "               Class      Images      Labels           P           R      mAP@.5  mAP@.5:.95: 100% 2/2 [00:01<00:00,  1.42it/s]\n",
            "                 all          20          20       0.941       0.798        0.82       0.254\n",
            "\n",
            "     Epoch   gpu_mem       box       obj       cls     total    labels  img_size\n",
            "     88/99     13.2G   0.02185   0.01166         0   0.03351        14      1280: 100% 10/10 [00:11<00:00,  1.13s/it]\n",
            "               Class      Images      Labels           P           R      mAP@.5  mAP@.5:.95: 100% 2/2 [00:01<00:00,  1.65it/s]\n",
            "                 all          20          20       0.874         0.7       0.764        0.27\n",
            "\n",
            "     Epoch   gpu_mem       box       obj       cls     total    labels  img_size\n",
            "     89/99     13.2G   0.02663   0.01206         0   0.03869        20      1280: 100% 10/10 [00:10<00:00,  1.06s/it]\n",
            "               Class      Images      Labels           P           R      mAP@.5  mAP@.5:.95: 100% 2/2 [00:01<00:00,  1.75it/s]\n",
            "                 all          20          20       0.871         0.7       0.766       0.261\n",
            "\n",
            "     Epoch   gpu_mem       box       obj       cls     total    labels  img_size\n",
            "     90/99     13.2G    0.0195   0.01178         0   0.03128        17      1280: 100% 10/10 [00:10<00:00,  1.02s/it]\n",
            "               Class      Images      Labels           P           R      mAP@.5  mAP@.5:.95: 100% 2/2 [00:01<00:00,  1.40it/s]\n",
            "                 all          20          20       0.872         0.7       0.784       0.224\n",
            "\n",
            "     Epoch   gpu_mem       box       obj       cls     total    labels  img_size\n",
            "     91/99     13.2G    0.0221   0.01259         0   0.03469        15      1280: 100% 10/10 [00:10<00:00,  1.08s/it]\n",
            "               Class      Images      Labels           P           R      mAP@.5  mAP@.5:.95: 100% 2/2 [00:01<00:00,  1.78it/s]\n",
            "                 all          20          20       0.933       0.699       0.801        0.24\n",
            "\n",
            "     Epoch   gpu_mem       box       obj       cls     total    labels  img_size\n",
            "     92/99     13.2G   0.02077   0.01184         0   0.03261         9      1280: 100% 10/10 [00:10<00:00,  1.02s/it]\n",
            "               Class      Images      Labels           P           R      mAP@.5  mAP@.5:.95: 100% 2/2 [00:01<00:00,  1.39it/s]\n",
            "                 all          20          20       0.938         0.8       0.845       0.242\n",
            "\n",
            "     Epoch   gpu_mem       box       obj       cls     total    labels  img_size\n",
            "     93/99     13.2G   0.02425   0.01236         0   0.03661        20      1280: 100% 10/10 [00:10<00:00,  1.07s/it]\n",
            "               Class      Images      Labels           P           R      mAP@.5  mAP@.5:.95: 100% 2/2 [00:01<00:00,  1.55it/s]\n",
            "                 all          20          20       0.995         0.8       0.855       0.248\n",
            "\n",
            "     Epoch   gpu_mem       box       obj       cls     total    labels  img_size\n",
            "     94/99     13.2G   0.01963   0.01191         0   0.03155        14      1280: 100% 10/10 [00:11<00:00,  1.15s/it]\n",
            "               Class      Images      Labels           P           R      mAP@.5  mAP@.5:.95: 100% 2/2 [00:01<00:00,  1.64it/s]\n",
            "                 all          20          20       0.941         0.8       0.853       0.252\n",
            "\n",
            "     Epoch   gpu_mem       box       obj       cls     total    labels  img_size\n",
            "     95/99     13.2G   0.01985    0.0106         0   0.03045         9      1280: 100% 10/10 [00:10<00:00,  1.04s/it]\n",
            "               Class      Images      Labels           P           R      mAP@.5  mAP@.5:.95: 100% 2/2 [00:01<00:00,  1.36it/s]\n",
            "                 all          20          20       0.939         0.8       0.855       0.274\n",
            "\n",
            "     Epoch   gpu_mem       box       obj       cls     total    labels  img_size\n",
            "     96/99     13.2G   0.02656   0.01197         0   0.03853        21      1280: 100% 10/10 [00:11<00:00,  1.10s/it]\n",
            "               Class      Images      Labels           P           R      mAP@.5  mAP@.5:.95: 100% 2/2 [00:01<00:00,  1.64it/s]\n",
            "                 all          20          20       0.939         0.8        0.86       0.298\n",
            "\n",
            "     Epoch   gpu_mem       box       obj       cls     total    labels  img_size\n",
            "     97/99     13.2G   0.03401    0.0129         0   0.04691        12      1280: 100% 10/10 [00:11<00:00,  1.16s/it]\n",
            "               Class      Images      Labels           P           R      mAP@.5  mAP@.5:.95: 100% 2/2 [00:01<00:00,  1.64it/s]\n",
            "                 all          20          20         0.9         0.9         0.9       0.324\n",
            "\n",
            "     Epoch   gpu_mem       box       obj       cls     total    labels  img_size\n",
            "     98/99     13.2G   0.02934   0.01143         0   0.04076        10      1280: 100% 10/10 [00:10<00:00,  1.04s/it]\n",
            "               Class      Images      Labels           P           R      mAP@.5  mAP@.5:.95: 100% 2/2 [00:01<00:00,  1.41it/s]\n",
            "                 all          20          20         0.9         0.9       0.899       0.317\n",
            "\n",
            "     Epoch   gpu_mem       box       obj       cls     total    labels  img_size\n",
            "     99/99     13.2G   0.02561    0.0122         0   0.03781        16      1280: 100% 10/10 [00:10<00:00,  1.03s/it]\n",
            "               Class      Images      Labels           P           R      mAP@.5  mAP@.5:.95: 100% 2/2 [00:03<00:00,  1.82s/it]\n",
            "                 all          20          20         0.9         0.9       0.893       0.293\n",
            "100 epochs completed in 0.700 hours.\n",
            "\n",
            "Optimizer stripped from runs/train/Controller/weights/last.pt, 162.6MB\n",
            "Optimizer stripped from runs/train/Controller/weights/best.pt, 162.6MB\n"
          ]
        }
      ]
    },
    {
      "cell_type": "code",
      "source": [
        "%cd /content/yolov7\n",
        "!python train_aux.py --batch 16 --cfg cfg/training/yolov7-w6.yaml --epochs 100 --data data/config.yaml --weights yolov7-w6_training.pt --device 0"
      ],
      "metadata": {
        "id": "d7dy7-nI7imk"
      },
      "execution_count": null,
      "outputs": []
    },
    {
      "cell_type": "markdown",
      "source": [
        "# Export der Dateien"
      ],
      "metadata": {
        "id": "QRKgl_PiMdll"
      }
    },
    {
      "cell_type": "markdown",
      "source": [
        "Gesamtes Verzeichnis der Ergebnisse oder einzelne Dateien. Aufgrund der großen Datenmengen dauert das erstellen des Verzeichnis einen moment."
      ],
      "metadata": {
        "id": "5iu_EZzxR6jg"
      }
    },
    {
      "cell_type": "code",
      "source": [
        "import zipfile\n",
        "import os\n",
        "\n",
        "%cd /content/yolov7\n",
        "\n",
        "# Verzeichnis mit den Dateien, die Sie in das ZIP-Archiv packen möchten\n",
        "verzeichnis = '/content/yolov7/runs/train' #Hier auch einzelne Dateien auswählbar\n",
        "\n",
        "# Name des ZIP-Archivs\n",
        "zip_datei = '/content/yolov7/results.zip' #Name result.zip kann individualisiert werden.\n",
        "\n",
        "# ZIP-Archiv erstellen und die Dateien hinzufügen\n",
        "with zipfile.ZipFile(zip_datei, 'w') as archiv:\n",
        "    for ordnername, _, dateien in os.walk(verzeichnis):\n",
        "        for datei in dateien:\n",
        "            dateipfad = os.path.join(ordnername, datei)\n",
        "            archivname = os.path.relpath(dateipfad, verzeichnis)  # Relativen Pfad im ZIP-Archiv verwenden\n",
        "            archiv.write(dateipfad, archivname)\n",
        "\n",
        "print(f'Die Dateien wurden erfolgreich in {zip_datei} gepackt.')"
      ],
      "metadata": {
        "colab": {
          "base_uri": "https://localhost:8080/"
        },
        "id": "n5mHxQroRYbD",
        "outputId": "e384fb0d-3b96-4e92-9101-5a98fdcd9a7e"
      },
      "execution_count": 64,
      "outputs": [
        {
          "output_type": "stream",
          "name": "stdout",
          "text": [
            "/content/yolov7\n",
            "Die Dateien wurden erfolgreich in /content/yolov7/results.zip gepackt.\n"
          ]
        }
      ]
    }
  ]
}